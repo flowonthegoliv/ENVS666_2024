{
  "nbformat": 4,
  "nbformat_minor": 0,
  "metadata": {
    "colab": {
      "provenance": [],
      "mount_file_id": "1XU547mhHZjaW2HiZOO3Zu5MCmSQ1hMib",
      "authorship_tag": "ABX9TyOS96VkQXzql2YQjLXyWFe4",
      "include_colab_link": true
    },
    "kernelspec": {
      "name": "python3",
      "display_name": "Python 3"
    },
    "language_info": {
      "name": "python"
    }
  },
  "cells": [
    {
      "cell_type": "markdown",
      "metadata": {
        "id": "view-in-github",
        "colab_type": "text"
      },
      "source": [
        "<a href=\"https://colab.research.google.com/github/flowonthegoliv/ENVS666_2024/blob/main/Tutorial_1.ipynb\" target=\"_parent\"><img src=\"https://colab.research.google.com/assets/colab-badge.svg\" alt=\"Open In Colab\"/></a>"
      ]
    },
    {
      "cell_type": "markdown",
      "source": [
        "Welcome to the fascinating world of scientific computing! In this module, we'll be using Python, the most popular languages in the field. You'll be using a tool called iPython Notebook, which is now known as Jupyter Notebook, to easily access and modify the notebooks.\n",
        "\n",
        "The great thing about using these notebooks is that you can easily share your work on GitHub and collaborate with others without having to worry about installing any complicated software or compilers. Everything you need is already self-contained in your browser!\n",
        "\n",
        "We'll be primarily using Python, which is a versatile and popular language for scientific computing. However, as you might know, computers can be quite \"stupid,\" and we need to provide them with a set of basic operators to perform useful operations. In Python, we do this by importing libraries, which contain pre-written code for specific tasks.\n",
        "\n",
        "The first library we'll be importing is numpy, which is the backbone of scientific computing in Python. It has all the basic functions you'll need, such as calculating averages and standard deviations. Before we dive into using this library, we'll start by assigning some variables and exploring some basic statistics. While these statistics might seem simple, they're often the most effective for gaining insight into complex and varied datasets."
      ],
      "metadata": {
        "id": "YGi_Tc0qryS0"
      }
    },
    {
      "cell_type": "code",
      "source": [
        "a = 2\n",
        "b = 3"
      ],
      "metadata": {
        "id": "RbDN2Trnrw_5"
      },
      "execution_count": null,
      "outputs": []
    },
    {
      "cell_type": "code",
      "source": [
        "c = a + b\n",
        "print(c)\n",
        "#here you can see I have used the print command; this command doens't send something to the printer it just prints on the screen."
      ],
      "metadata": {
        "id": "nX9gwG52ucuc",
        "colab": {
          "base_uri": "https://localhost:8080/"
        },
        "outputId": "56a00769-1c47-401f-bfe5-ffe2b8d83523"
      },
      "execution_count": null,
      "outputs": [
        {
          "output_type": "stream",
          "name": "stdout",
          "text": [
            "5\n"
          ]
        }
      ]
    },
    {
      "cell_type": "code",
      "source": [
        "#we might actually create a list of data\n",
        "d = [1,3,7,2,4,6,7,3,2]\n",
        "#see here we have the square brackets around the numbers and the commas seperating them?\n",
        "#we could find out the length of these data\n",
        "print(len(d))"
      ],
      "metadata": {
        "colab": {
          "base_uri": "https://localhost:8080/"
        },
        "id": "cIGwvKnBugG7",
        "outputId": "2c2f0026-2939-47a8-88f2-b110168474df"
      },
      "execution_count": null,
      "outputs": [
        {
          "output_type": "stream",
          "name": "stdout",
          "text": [
            "9\n"
          ]
        }
      ]
    },
    {
      "cell_type": "markdown",
      "source": [
        "Let's start our data analysis journey with some fundamental statistics. Before we dive into Python and start reading data, we'll first explore how we can perform basic operations and analyze some fundamental numbers. While these statistics might appear simplistic, the truth is that basic statistics are often the most powerful and effective.\n",
        "\n",
        "Statistical analysis is crucial for simplifying complex data sets, allowing us to understand large data sets with ease. To achieve a deep understanding of complex and varying data, we need to apply metrics that simplify the data. That's where statistics comes in to play.\n",
        "\n",
        "One of the most potent statistics that are frequently overlooked is the mean average. The mean average provides us with a sense of the data's magnitude, giving us a basic understanding of the total data span.\n",
        "\n",
        "Once we have calculated the mean, we might want to examine the standard deviation. While the mean reveals the data's magnitude, the standard deviation illustrates how the data deviates from the mean. Sometimes the mean can obscure critical aspects of the data, such as if there are enormous amounts of positive numbers and negative numbers that balance each other out, resulting in a mean that hovers around 0. The standard deviation allows us to identify these variations, providing a deeper understanding of what may be occurring around the mean average.\n",
        "\n",
        "That's why you'll often see error bounds plotted on single line plots in scientific papers, with the standard deviation being the most commonly used metric. By showing how the data deviates from the mean, the standard deviation tells us about the variability in the data and helps us to gain a more comprehensive understanding of the data set.\n",
        "\n",
        "If you want to see all of the libraries do take a look to the numpy documentation:\n",
        "\n",
        "https://numpy.org/doc/stable/user/absolute_beginners.html\n"
      ],
      "metadata": {
        "id": "R783DVmLs_rR"
      }
    },
    {
      "cell_type": "code",
      "source": [
        "#or we might even want to find out what the average of this is; but how...\n",
        "#we need to use a package; which we import as:\n",
        "import numpy as np\n",
        "#as you can see, we have now imported this library as np: we shorted the name to np for ease."
      ],
      "metadata": {
        "id": "X8x-vFanuz_w"
      },
      "execution_count": null,
      "outputs": []
    },
    {
      "cell_type": "code",
      "source": [
        "#now we can caculate our average through:\n",
        "av_d = np.mean(d)\n",
        "print(av_d)"
      ],
      "metadata": {
        "id": "PhTeG_Ofs-fB",
        "colab": {
          "base_uri": "https://localhost:8080/"
        },
        "outputId": "0afb022f-e4f0-4715-86a6-40d1e7112d2d"
      },
      "execution_count": null,
      "outputs": [
        {
          "output_type": "stream",
          "name": "stdout",
          "text": [
            "3.888888888888889\n"
          ]
        }
      ]
    },
    {
      "cell_type": "code",
      "source": [
        "#we might now event want to extend this a little bit and do the standard deviation\n",
        "std_d = np.std(d)\n",
        "print(std_d)"
      ],
      "metadata": {
        "id": "LZiyyEM0xSKq",
        "colab": {
          "base_uri": "https://localhost:8080/"
        },
        "outputId": "215292a3-594d-43ae-c8a7-18eacafa89de"
      },
      "execution_count": null,
      "outputs": [
        {
          "output_type": "stream",
          "name": "stdout",
          "text": [
            "2.1314806770278754\n"
          ]
        }
      ]
    },
    {
      "cell_type": "code",
      "source": [
        "#one thing to note here; more likely than not out real world data is full of bad numbers / errors.\n",
        "#a computer interprets these as something called \"not a number\" NaN.\n",
        "e = [1,6,2,4,6,7,3,np.nan,2,3,4]\n",
        "#you can see when we come work out the average this happens\n",
        "av_e = np.mean(e)\n",
        "print(av_e)"
      ],
      "metadata": {
        "colab": {
          "base_uri": "https://localhost:8080/"
        },
        "id": "8-dG-mXyxdTo",
        "outputId": "a8403f0b-c0d7-42d1-b2f3-813f2ad0bfe7"
      },
      "execution_count": null,
      "outputs": [
        {
          "output_type": "stream",
          "name": "stdout",
          "text": [
            "nan\n"
          ]
        }
      ]
    },
    {
      "cell_type": "code",
      "source": [
        "#fixing this is quite simple; we can just say:\n",
        "av_e = np.nanmean(e)\n",
        "print(av_e)\n",
        "#all this does is then ignore the NaN value and calculates the mean around it."
      ],
      "metadata": {
        "colab": {
          "base_uri": "https://localhost:8080/"
        },
        "id": "-_2sDV8-x7sm",
        "outputId": "a09b19be-ce39-4287-a842-1be6ad15f880"
      },
      "execution_count": null,
      "outputs": [
        {
          "output_type": "stream",
          "name": "stdout",
          "text": [
            "3.8\n"
          ]
        }
      ]
    },
    {
      "cell_type": "markdown",
      "source": [
        "First, let's start with the section on statistics:\n",
        "\n",
        "Throughout this module, we will cover the basics of statistics, including some of the most effective and commonly used metrics. However, if you would like to explore more advanced statistical methods, feel free to explore different packages or libraries or consult the documentation of the NumPy package. There are numerous ways to compute a certain statistic, and often, there isn't a one-size-fits-all approach. So, it's always good to have some flexibility in your toolbox.\n",
        "\n",
        "Now, let's move on to the section on data access:\n",
        "\n",
        "To work with real data, we'll be accessing a CSV file that is available in our data repository. The CSV file contains comma-separated values and can be downloaded via the interactive map provided in the link below. Please note that this data is updated regularly, and the file you download may differ from the one used by other researchers or academics. As we're working with real research data, there's no artificiality to it.\n",
        "\n",
        "http://jonnyhigham.co.uk/ENVS666MAP/\n",
        "\n",
        "To access the CSV file and work with the data, we'll be using the pandas package. Pandas is a powerful library specifically designed for managing and analyzing databases. Although we won't be using all of its functionalities, we'll be utilizing its ability to quickly process and analyze data sets. This will enable us to apply various statistical methods and analyze the data across different time ranges.\n",
        "\n",
        "Lastly, please note that all the data used in this module is from September 1, 2022, onwards. Although we do have some historical data for other datasets, it may not be in a format that you're familiar with. We have selected this date range as we're confident that all the sensors have been calibrated from this date onwards.\n",
        "\n",
        "OK... so let's download a dataset. We are then going to drag and drop this to the folder at the side of this window."
      ],
      "metadata": {
        "id": "gw-lM2TxzzZ8"
      }
    },
    {
      "cell_type": "code",
      "source": [
        "#OK let's import pandas\n",
        "import pandas as pd\n",
        "#Hello Numpy again\n",
        "import numpy as np\n",
        "#well also need some requests\n",
        "import requests\n"
      ],
      "metadata": {
        "id": "rwkXfG2CyWXi"
      },
      "execution_count": 1,
      "outputs": []
    },
    {
      "cell_type": "code",
      "source": [
        "#once we have imported the toolbox we can then import the data\n",
        "\n",
        "url = \"https://jonnyhigham.com/ENVS666/get_forecast.php\"\n",
        "response = requests.get(url)\n",
        "data = response.json()\n",
        "\n",
        "sensors = data['sensorInfo']\n",
        "df = pd.DataFrame(sensors)\n",
        "\n",
        "df"
      ],
      "metadata": {
        "id": "H4m-KKbCVlIP",
        "outputId": "3e1d3832-a56c-4f4b-d7c7-db7611d3dab9",
        "colab": {
          "base_uri": "https://localhost:8080/",
          "height": 1000
        }
      },
      "execution_count": 67,
      "outputs": [
        {
          "output_type": "execute_result",
          "data": {
            "text/plain": [
              "   sensor_name           start_date             end_date      lng      lat\n",
              "0     sensor_0  2021-11-02 18:17:59  2024-02-16 08:57:26 -2.98470  53.4106\n",
              "1     sensor_1  2021-10-21 17:57:38  2024-02-16 08:05:28 -2.98398  53.4088\n",
              "2    sensor_10  2021-11-04 17:14:28  2024-02-16 08:42:36 -2.88686  53.3515\n",
              "3    sensor_11  2021-10-27 17:04:49  2024-02-16 08:42:46 -2.92230  53.3992\n",
              "4    sensor_12  2021-10-21 17:48:55  2024-02-16 08:51:28 -2.97141  53.4054\n",
              "5    sensor_13  2021-11-04 17:09:02  2024-02-16 08:37:11 -2.97279  53.4312\n",
              "6    sensor_14  2021-11-04 17:22:37  2024-02-11 13:30:53 -2.92080  53.3905\n",
              "7    sensor_15  2021-11-04 16:52:21  2024-02-16 08:58:01 -2.95459  53.4328\n",
              "8    sensor_16  2021-10-21 19:03:31  2024-02-16 08:40:09 -2.96291  53.4069\n",
              "9    sensor_17  2021-10-27 17:15:28  2024-02-16 09:02:06 -2.98279  53.4397\n",
              "10   sensor_18  2021-10-27 16:53:15  2024-02-16 08:56:05 -2.99796  53.4557\n",
              "11   sensor_19  2021-10-27 16:43:55  2024-02-16 09:01:21 -2.99453  53.4009\n",
              "12    sensor_2  2021-03-19 18:56:06  2024-02-13 00:23:02 -2.98228  53.4073\n",
              "13   sensor_20  2021-10-27 17:24:40  2024-02-15 13:09:47 -2.84434  53.3463\n",
              "14   sensor_21  2021-10-27 17:34:11  2024-02-15 21:28:00 -2.92558  53.3641\n",
              "15   sensor_22  2021-11-04 16:58:51  2024-01-15 14:57:02 -2.90890  53.4075\n",
              "16   sensor_23  2022-03-02 18:57:58  2024-01-15 14:57:02 -2.95712  53.3852\n",
              "17   sensor_24  2021-03-19 19:58:39  2024-02-15 21:12:16 -2.96377  53.3787\n",
              "18   sensor_25  2022-04-06 11:47:42  2024-02-15 21:33:19 -2.99337  53.4517\n",
              "19   sensor_26  2022-04-06 11:09:47  2024-02-15 21:13:48 -2.99363  53.4530\n",
              "20   sensor_27  2021-10-27 16:43:55  2024-02-15 21:34:10 -2.99453  53.4009\n",
              "21   sensor_28  2022-05-06 16:12:45  2024-02-15 21:24:36 -3.00162  53.4433\n",
              "22   sensor_29  2022-05-06 16:21:56  2024-02-15 17:36:07 -2.99077  53.4320\n",
              "23    sensor_3  2021-03-19 17:42:41  2024-01-15 14:57:02 -2.96438  53.4053\n",
              "24   sensor_30  2022-05-06 16:30:44  2024-02-15 21:06:37 -2.99986  53.4183\n",
              "25   sensor_31  2022-07-28 09:13:04  2024-02-15 21:38:50 -2.97821  53.4172\n",
              "26   sensor_32  2022-07-28 09:38:15  2024-02-15 05:22:21 -2.95425  53.4246\n",
              "27   sensor_33  2022-07-28 09:58:36  2024-02-15 21:16:55 -2.94430  53.4176\n",
              "28   sensor_34  2022-07-28 10:15:20  2024-02-15 20:25:25 -2.93946  53.4031\n",
              "29   sensor_35  2022-01-24 16:40:09  2024-02-15 21:15:45 -2.94346  53.3889\n",
              "30   sensor_36  2021-08-12 09:40:01  2024-02-15 11:41:42 -2.95098  53.3988\n",
              "31   sensor_37  2023-01-16 13:45:46  2024-02-15 21:33:50 -2.98265  53.3939\n",
              "32   sensor_38  2023-08-01 00:20:00  2024-02-15 21:39:08 -2.96659  53.4217\n",
              "33   sensor_39  2023-08-01 00:24:50  2024-02-15 21:20:31 -3.00070  53.4353\n",
              "34    sensor_4  2021-03-17 15:34:26  2024-01-15 14:57:02 -2.98273  53.4078\n",
              "35   sensor_40  2023-08-01 01:08:55  2024-02-15 21:06:16 -2.96880  53.4389\n",
              "36   sensor_41  2023-08-01 00:18:45  2024-02-10 16:38:15 -2.94670  53.4238\n",
              "37   sensor_42  2023-08-01 00:18:29  2024-02-15 21:12:20 -2.87298  53.4029\n",
              "38   sensor_43  2023-08-09 12:34:58  2024-02-15 21:31:34 -2.96729  53.4435\n",
              "39   sensor_44  2023-12-24 00:10:00  2024-02-15 21:40:43 -2.88226  53.4195\n",
              "40   sensor_45  2023-12-24 00:05:00  2024-02-15 21:09:03 -2.93505  53.4140\n",
              "41   sensor_46  2023-12-24 00:10:00  2024-02-15 21:16:54 -2.94929  53.4122\n",
              "42   sensor_47  2023-12-24 00:03:01  2024-02-15 21:10:00 -2.98144  53.4082\n",
              "43   sensor_48  2023-12-24 00:00:00  2024-02-15 21:26:09 -2.99039  53.4052\n",
              "44   sensor_49  2023-12-24 00:00:00  2024-02-15 21:22:34 -2.98903  53.4018\n",
              "45    sensor_5  2021-10-21 19:10:38  2024-02-16 08:45:04 -2.96502  53.4014\n",
              "46   sensor_50  2023-12-24 00:00:00  2024-02-15 06:10:00 -2.90136  53.4166\n",
              "47   sensor_51  2023-12-24 00:00:00  2024-02-15 06:00:00 -2.92019  53.4154\n",
              "48   sensor_52  2023-12-24 00:14:22  2024-02-15 06:00:00 -2.96549  53.4106\n",
              "49   sensor_53  2023-12-24 00:12:59  2024-02-15 05:59:23 -2.97658  53.4094\n",
              "50    sensor_6  2022-02-07 15:50:49  2024-02-16 09:00:11 -2.99147  53.4535\n",
              "51    sensor_7  2021-10-27 16:18:25  2024-02-16 08:33:49 -2.97904  53.4041\n",
              "52    sensor_8  2021-10-27 17:29:14  2024-02-16 00:58:33 -2.95428  53.3762\n",
              "53    sensor_9  2021-10-27 16:28:07  2024-02-16 08:35:05 -2.97618  53.3831"
            ],
            "text/html": [
              "\n",
              "  <div id=\"df-4118b0be-b5a1-495e-9699-ffea2b4fbbd7\" class=\"colab-df-container\">\n",
              "    <div>\n",
              "<style scoped>\n",
              "    .dataframe tbody tr th:only-of-type {\n",
              "        vertical-align: middle;\n",
              "    }\n",
              "\n",
              "    .dataframe tbody tr th {\n",
              "        vertical-align: top;\n",
              "    }\n",
              "\n",
              "    .dataframe thead th {\n",
              "        text-align: right;\n",
              "    }\n",
              "</style>\n",
              "<table border=\"1\" class=\"dataframe\">\n",
              "  <thead>\n",
              "    <tr style=\"text-align: right;\">\n",
              "      <th></th>\n",
              "      <th>sensor_name</th>\n",
              "      <th>start_date</th>\n",
              "      <th>end_date</th>\n",
              "      <th>lng</th>\n",
              "      <th>lat</th>\n",
              "    </tr>\n",
              "  </thead>\n",
              "  <tbody>\n",
              "    <tr>\n",
              "      <th>0</th>\n",
              "      <td>sensor_0</td>\n",
              "      <td>2021-11-02 18:17:59</td>\n",
              "      <td>2024-02-16 08:57:26</td>\n",
              "      <td>-2.98470</td>\n",
              "      <td>53.4106</td>\n",
              "    </tr>\n",
              "    <tr>\n",
              "      <th>1</th>\n",
              "      <td>sensor_1</td>\n",
              "      <td>2021-10-21 17:57:38</td>\n",
              "      <td>2024-02-16 08:05:28</td>\n",
              "      <td>-2.98398</td>\n",
              "      <td>53.4088</td>\n",
              "    </tr>\n",
              "    <tr>\n",
              "      <th>2</th>\n",
              "      <td>sensor_10</td>\n",
              "      <td>2021-11-04 17:14:28</td>\n",
              "      <td>2024-02-16 08:42:36</td>\n",
              "      <td>-2.88686</td>\n",
              "      <td>53.3515</td>\n",
              "    </tr>\n",
              "    <tr>\n",
              "      <th>3</th>\n",
              "      <td>sensor_11</td>\n",
              "      <td>2021-10-27 17:04:49</td>\n",
              "      <td>2024-02-16 08:42:46</td>\n",
              "      <td>-2.92230</td>\n",
              "      <td>53.3992</td>\n",
              "    </tr>\n",
              "    <tr>\n",
              "      <th>4</th>\n",
              "      <td>sensor_12</td>\n",
              "      <td>2021-10-21 17:48:55</td>\n",
              "      <td>2024-02-16 08:51:28</td>\n",
              "      <td>-2.97141</td>\n",
              "      <td>53.4054</td>\n",
              "    </tr>\n",
              "    <tr>\n",
              "      <th>5</th>\n",
              "      <td>sensor_13</td>\n",
              "      <td>2021-11-04 17:09:02</td>\n",
              "      <td>2024-02-16 08:37:11</td>\n",
              "      <td>-2.97279</td>\n",
              "      <td>53.4312</td>\n",
              "    </tr>\n",
              "    <tr>\n",
              "      <th>6</th>\n",
              "      <td>sensor_14</td>\n",
              "      <td>2021-11-04 17:22:37</td>\n",
              "      <td>2024-02-11 13:30:53</td>\n",
              "      <td>-2.92080</td>\n",
              "      <td>53.3905</td>\n",
              "    </tr>\n",
              "    <tr>\n",
              "      <th>7</th>\n",
              "      <td>sensor_15</td>\n",
              "      <td>2021-11-04 16:52:21</td>\n",
              "      <td>2024-02-16 08:58:01</td>\n",
              "      <td>-2.95459</td>\n",
              "      <td>53.4328</td>\n",
              "    </tr>\n",
              "    <tr>\n",
              "      <th>8</th>\n",
              "      <td>sensor_16</td>\n",
              "      <td>2021-10-21 19:03:31</td>\n",
              "      <td>2024-02-16 08:40:09</td>\n",
              "      <td>-2.96291</td>\n",
              "      <td>53.4069</td>\n",
              "    </tr>\n",
              "    <tr>\n",
              "      <th>9</th>\n",
              "      <td>sensor_17</td>\n",
              "      <td>2021-10-27 17:15:28</td>\n",
              "      <td>2024-02-16 09:02:06</td>\n",
              "      <td>-2.98279</td>\n",
              "      <td>53.4397</td>\n",
              "    </tr>\n",
              "    <tr>\n",
              "      <th>10</th>\n",
              "      <td>sensor_18</td>\n",
              "      <td>2021-10-27 16:53:15</td>\n",
              "      <td>2024-02-16 08:56:05</td>\n",
              "      <td>-2.99796</td>\n",
              "      <td>53.4557</td>\n",
              "    </tr>\n",
              "    <tr>\n",
              "      <th>11</th>\n",
              "      <td>sensor_19</td>\n",
              "      <td>2021-10-27 16:43:55</td>\n",
              "      <td>2024-02-16 09:01:21</td>\n",
              "      <td>-2.99453</td>\n",
              "      <td>53.4009</td>\n",
              "    </tr>\n",
              "    <tr>\n",
              "      <th>12</th>\n",
              "      <td>sensor_2</td>\n",
              "      <td>2021-03-19 18:56:06</td>\n",
              "      <td>2024-02-13 00:23:02</td>\n",
              "      <td>-2.98228</td>\n",
              "      <td>53.4073</td>\n",
              "    </tr>\n",
              "    <tr>\n",
              "      <th>13</th>\n",
              "      <td>sensor_20</td>\n",
              "      <td>2021-10-27 17:24:40</td>\n",
              "      <td>2024-02-15 13:09:47</td>\n",
              "      <td>-2.84434</td>\n",
              "      <td>53.3463</td>\n",
              "    </tr>\n",
              "    <tr>\n",
              "      <th>14</th>\n",
              "      <td>sensor_21</td>\n",
              "      <td>2021-10-27 17:34:11</td>\n",
              "      <td>2024-02-15 21:28:00</td>\n",
              "      <td>-2.92558</td>\n",
              "      <td>53.3641</td>\n",
              "    </tr>\n",
              "    <tr>\n",
              "      <th>15</th>\n",
              "      <td>sensor_22</td>\n",
              "      <td>2021-11-04 16:58:51</td>\n",
              "      <td>2024-01-15 14:57:02</td>\n",
              "      <td>-2.90890</td>\n",
              "      <td>53.4075</td>\n",
              "    </tr>\n",
              "    <tr>\n",
              "      <th>16</th>\n",
              "      <td>sensor_23</td>\n",
              "      <td>2022-03-02 18:57:58</td>\n",
              "      <td>2024-01-15 14:57:02</td>\n",
              "      <td>-2.95712</td>\n",
              "      <td>53.3852</td>\n",
              "    </tr>\n",
              "    <tr>\n",
              "      <th>17</th>\n",
              "      <td>sensor_24</td>\n",
              "      <td>2021-03-19 19:58:39</td>\n",
              "      <td>2024-02-15 21:12:16</td>\n",
              "      <td>-2.96377</td>\n",
              "      <td>53.3787</td>\n",
              "    </tr>\n",
              "    <tr>\n",
              "      <th>18</th>\n",
              "      <td>sensor_25</td>\n",
              "      <td>2022-04-06 11:47:42</td>\n",
              "      <td>2024-02-15 21:33:19</td>\n",
              "      <td>-2.99337</td>\n",
              "      <td>53.4517</td>\n",
              "    </tr>\n",
              "    <tr>\n",
              "      <th>19</th>\n",
              "      <td>sensor_26</td>\n",
              "      <td>2022-04-06 11:09:47</td>\n",
              "      <td>2024-02-15 21:13:48</td>\n",
              "      <td>-2.99363</td>\n",
              "      <td>53.4530</td>\n",
              "    </tr>\n",
              "    <tr>\n",
              "      <th>20</th>\n",
              "      <td>sensor_27</td>\n",
              "      <td>2021-10-27 16:43:55</td>\n",
              "      <td>2024-02-15 21:34:10</td>\n",
              "      <td>-2.99453</td>\n",
              "      <td>53.4009</td>\n",
              "    </tr>\n",
              "    <tr>\n",
              "      <th>21</th>\n",
              "      <td>sensor_28</td>\n",
              "      <td>2022-05-06 16:12:45</td>\n",
              "      <td>2024-02-15 21:24:36</td>\n",
              "      <td>-3.00162</td>\n",
              "      <td>53.4433</td>\n",
              "    </tr>\n",
              "    <tr>\n",
              "      <th>22</th>\n",
              "      <td>sensor_29</td>\n",
              "      <td>2022-05-06 16:21:56</td>\n",
              "      <td>2024-02-15 17:36:07</td>\n",
              "      <td>-2.99077</td>\n",
              "      <td>53.4320</td>\n",
              "    </tr>\n",
              "    <tr>\n",
              "      <th>23</th>\n",
              "      <td>sensor_3</td>\n",
              "      <td>2021-03-19 17:42:41</td>\n",
              "      <td>2024-01-15 14:57:02</td>\n",
              "      <td>-2.96438</td>\n",
              "      <td>53.4053</td>\n",
              "    </tr>\n",
              "    <tr>\n",
              "      <th>24</th>\n",
              "      <td>sensor_30</td>\n",
              "      <td>2022-05-06 16:30:44</td>\n",
              "      <td>2024-02-15 21:06:37</td>\n",
              "      <td>-2.99986</td>\n",
              "      <td>53.4183</td>\n",
              "    </tr>\n",
              "    <tr>\n",
              "      <th>25</th>\n",
              "      <td>sensor_31</td>\n",
              "      <td>2022-07-28 09:13:04</td>\n",
              "      <td>2024-02-15 21:38:50</td>\n",
              "      <td>-2.97821</td>\n",
              "      <td>53.4172</td>\n",
              "    </tr>\n",
              "    <tr>\n",
              "      <th>26</th>\n",
              "      <td>sensor_32</td>\n",
              "      <td>2022-07-28 09:38:15</td>\n",
              "      <td>2024-02-15 05:22:21</td>\n",
              "      <td>-2.95425</td>\n",
              "      <td>53.4246</td>\n",
              "    </tr>\n",
              "    <tr>\n",
              "      <th>27</th>\n",
              "      <td>sensor_33</td>\n",
              "      <td>2022-07-28 09:58:36</td>\n",
              "      <td>2024-02-15 21:16:55</td>\n",
              "      <td>-2.94430</td>\n",
              "      <td>53.4176</td>\n",
              "    </tr>\n",
              "    <tr>\n",
              "      <th>28</th>\n",
              "      <td>sensor_34</td>\n",
              "      <td>2022-07-28 10:15:20</td>\n",
              "      <td>2024-02-15 20:25:25</td>\n",
              "      <td>-2.93946</td>\n",
              "      <td>53.4031</td>\n",
              "    </tr>\n",
              "    <tr>\n",
              "      <th>29</th>\n",
              "      <td>sensor_35</td>\n",
              "      <td>2022-01-24 16:40:09</td>\n",
              "      <td>2024-02-15 21:15:45</td>\n",
              "      <td>-2.94346</td>\n",
              "      <td>53.3889</td>\n",
              "    </tr>\n",
              "    <tr>\n",
              "      <th>30</th>\n",
              "      <td>sensor_36</td>\n",
              "      <td>2021-08-12 09:40:01</td>\n",
              "      <td>2024-02-15 11:41:42</td>\n",
              "      <td>-2.95098</td>\n",
              "      <td>53.3988</td>\n",
              "    </tr>\n",
              "    <tr>\n",
              "      <th>31</th>\n",
              "      <td>sensor_37</td>\n",
              "      <td>2023-01-16 13:45:46</td>\n",
              "      <td>2024-02-15 21:33:50</td>\n",
              "      <td>-2.98265</td>\n",
              "      <td>53.3939</td>\n",
              "    </tr>\n",
              "    <tr>\n",
              "      <th>32</th>\n",
              "      <td>sensor_38</td>\n",
              "      <td>2023-08-01 00:20:00</td>\n",
              "      <td>2024-02-15 21:39:08</td>\n",
              "      <td>-2.96659</td>\n",
              "      <td>53.4217</td>\n",
              "    </tr>\n",
              "    <tr>\n",
              "      <th>33</th>\n",
              "      <td>sensor_39</td>\n",
              "      <td>2023-08-01 00:24:50</td>\n",
              "      <td>2024-02-15 21:20:31</td>\n",
              "      <td>-3.00070</td>\n",
              "      <td>53.4353</td>\n",
              "    </tr>\n",
              "    <tr>\n",
              "      <th>34</th>\n",
              "      <td>sensor_4</td>\n",
              "      <td>2021-03-17 15:34:26</td>\n",
              "      <td>2024-01-15 14:57:02</td>\n",
              "      <td>-2.98273</td>\n",
              "      <td>53.4078</td>\n",
              "    </tr>\n",
              "    <tr>\n",
              "      <th>35</th>\n",
              "      <td>sensor_40</td>\n",
              "      <td>2023-08-01 01:08:55</td>\n",
              "      <td>2024-02-15 21:06:16</td>\n",
              "      <td>-2.96880</td>\n",
              "      <td>53.4389</td>\n",
              "    </tr>\n",
              "    <tr>\n",
              "      <th>36</th>\n",
              "      <td>sensor_41</td>\n",
              "      <td>2023-08-01 00:18:45</td>\n",
              "      <td>2024-02-10 16:38:15</td>\n",
              "      <td>-2.94670</td>\n",
              "      <td>53.4238</td>\n",
              "    </tr>\n",
              "    <tr>\n",
              "      <th>37</th>\n",
              "      <td>sensor_42</td>\n",
              "      <td>2023-08-01 00:18:29</td>\n",
              "      <td>2024-02-15 21:12:20</td>\n",
              "      <td>-2.87298</td>\n",
              "      <td>53.4029</td>\n",
              "    </tr>\n",
              "    <tr>\n",
              "      <th>38</th>\n",
              "      <td>sensor_43</td>\n",
              "      <td>2023-08-09 12:34:58</td>\n",
              "      <td>2024-02-15 21:31:34</td>\n",
              "      <td>-2.96729</td>\n",
              "      <td>53.4435</td>\n",
              "    </tr>\n",
              "    <tr>\n",
              "      <th>39</th>\n",
              "      <td>sensor_44</td>\n",
              "      <td>2023-12-24 00:10:00</td>\n",
              "      <td>2024-02-15 21:40:43</td>\n",
              "      <td>-2.88226</td>\n",
              "      <td>53.4195</td>\n",
              "    </tr>\n",
              "    <tr>\n",
              "      <th>40</th>\n",
              "      <td>sensor_45</td>\n",
              "      <td>2023-12-24 00:05:00</td>\n",
              "      <td>2024-02-15 21:09:03</td>\n",
              "      <td>-2.93505</td>\n",
              "      <td>53.4140</td>\n",
              "    </tr>\n",
              "    <tr>\n",
              "      <th>41</th>\n",
              "      <td>sensor_46</td>\n",
              "      <td>2023-12-24 00:10:00</td>\n",
              "      <td>2024-02-15 21:16:54</td>\n",
              "      <td>-2.94929</td>\n",
              "      <td>53.4122</td>\n",
              "    </tr>\n",
              "    <tr>\n",
              "      <th>42</th>\n",
              "      <td>sensor_47</td>\n",
              "      <td>2023-12-24 00:03:01</td>\n",
              "      <td>2024-02-15 21:10:00</td>\n",
              "      <td>-2.98144</td>\n",
              "      <td>53.4082</td>\n",
              "    </tr>\n",
              "    <tr>\n",
              "      <th>43</th>\n",
              "      <td>sensor_48</td>\n",
              "      <td>2023-12-24 00:00:00</td>\n",
              "      <td>2024-02-15 21:26:09</td>\n",
              "      <td>-2.99039</td>\n",
              "      <td>53.4052</td>\n",
              "    </tr>\n",
              "    <tr>\n",
              "      <th>44</th>\n",
              "      <td>sensor_49</td>\n",
              "      <td>2023-12-24 00:00:00</td>\n",
              "      <td>2024-02-15 21:22:34</td>\n",
              "      <td>-2.98903</td>\n",
              "      <td>53.4018</td>\n",
              "    </tr>\n",
              "    <tr>\n",
              "      <th>45</th>\n",
              "      <td>sensor_5</td>\n",
              "      <td>2021-10-21 19:10:38</td>\n",
              "      <td>2024-02-16 08:45:04</td>\n",
              "      <td>-2.96502</td>\n",
              "      <td>53.4014</td>\n",
              "    </tr>\n",
              "    <tr>\n",
              "      <th>46</th>\n",
              "      <td>sensor_50</td>\n",
              "      <td>2023-12-24 00:00:00</td>\n",
              "      <td>2024-02-15 06:10:00</td>\n",
              "      <td>-2.90136</td>\n",
              "      <td>53.4166</td>\n",
              "    </tr>\n",
              "    <tr>\n",
              "      <th>47</th>\n",
              "      <td>sensor_51</td>\n",
              "      <td>2023-12-24 00:00:00</td>\n",
              "      <td>2024-02-15 06:00:00</td>\n",
              "      <td>-2.92019</td>\n",
              "      <td>53.4154</td>\n",
              "    </tr>\n",
              "    <tr>\n",
              "      <th>48</th>\n",
              "      <td>sensor_52</td>\n",
              "      <td>2023-12-24 00:14:22</td>\n",
              "      <td>2024-02-15 06:00:00</td>\n",
              "      <td>-2.96549</td>\n",
              "      <td>53.4106</td>\n",
              "    </tr>\n",
              "    <tr>\n",
              "      <th>49</th>\n",
              "      <td>sensor_53</td>\n",
              "      <td>2023-12-24 00:12:59</td>\n",
              "      <td>2024-02-15 05:59:23</td>\n",
              "      <td>-2.97658</td>\n",
              "      <td>53.4094</td>\n",
              "    </tr>\n",
              "    <tr>\n",
              "      <th>50</th>\n",
              "      <td>sensor_6</td>\n",
              "      <td>2022-02-07 15:50:49</td>\n",
              "      <td>2024-02-16 09:00:11</td>\n",
              "      <td>-2.99147</td>\n",
              "      <td>53.4535</td>\n",
              "    </tr>\n",
              "    <tr>\n",
              "      <th>51</th>\n",
              "      <td>sensor_7</td>\n",
              "      <td>2021-10-27 16:18:25</td>\n",
              "      <td>2024-02-16 08:33:49</td>\n",
              "      <td>-2.97904</td>\n",
              "      <td>53.4041</td>\n",
              "    </tr>\n",
              "    <tr>\n",
              "      <th>52</th>\n",
              "      <td>sensor_8</td>\n",
              "      <td>2021-10-27 17:29:14</td>\n",
              "      <td>2024-02-16 00:58:33</td>\n",
              "      <td>-2.95428</td>\n",
              "      <td>53.3762</td>\n",
              "    </tr>\n",
              "    <tr>\n",
              "      <th>53</th>\n",
              "      <td>sensor_9</td>\n",
              "      <td>2021-10-27 16:28:07</td>\n",
              "      <td>2024-02-16 08:35:05</td>\n",
              "      <td>-2.97618</td>\n",
              "      <td>53.3831</td>\n",
              "    </tr>\n",
              "  </tbody>\n",
              "</table>\n",
              "</div>\n",
              "    <div class=\"colab-df-buttons\">\n",
              "\n",
              "  <div class=\"colab-df-container\">\n",
              "    <button class=\"colab-df-convert\" onclick=\"convertToInteractive('df-4118b0be-b5a1-495e-9699-ffea2b4fbbd7')\"\n",
              "            title=\"Convert this dataframe to an interactive table.\"\n",
              "            style=\"display:none;\">\n",
              "\n",
              "  <svg xmlns=\"http://www.w3.org/2000/svg\" height=\"24px\" viewBox=\"0 -960 960 960\">\n",
              "    <path d=\"M120-120v-720h720v720H120Zm60-500h600v-160H180v160Zm220 220h160v-160H400v160Zm0 220h160v-160H400v160ZM180-400h160v-160H180v160Zm440 0h160v-160H620v160ZM180-180h160v-160H180v160Zm440 0h160v-160H620v160Z\"/>\n",
              "  </svg>\n",
              "    </button>\n",
              "\n",
              "  <style>\n",
              "    .colab-df-container {\n",
              "      display:flex;\n",
              "      gap: 12px;\n",
              "    }\n",
              "\n",
              "    .colab-df-convert {\n",
              "      background-color: #E8F0FE;\n",
              "      border: none;\n",
              "      border-radius: 50%;\n",
              "      cursor: pointer;\n",
              "      display: none;\n",
              "      fill: #1967D2;\n",
              "      height: 32px;\n",
              "      padding: 0 0 0 0;\n",
              "      width: 32px;\n",
              "    }\n",
              "\n",
              "    .colab-df-convert:hover {\n",
              "      background-color: #E2EBFA;\n",
              "      box-shadow: 0px 1px 2px rgba(60, 64, 67, 0.3), 0px 1px 3px 1px rgba(60, 64, 67, 0.15);\n",
              "      fill: #174EA6;\n",
              "    }\n",
              "\n",
              "    .colab-df-buttons div {\n",
              "      margin-bottom: 4px;\n",
              "    }\n",
              "\n",
              "    [theme=dark] .colab-df-convert {\n",
              "      background-color: #3B4455;\n",
              "      fill: #D2E3FC;\n",
              "    }\n",
              "\n",
              "    [theme=dark] .colab-df-convert:hover {\n",
              "      background-color: #434B5C;\n",
              "      box-shadow: 0px 1px 3px 1px rgba(0, 0, 0, 0.15);\n",
              "      filter: drop-shadow(0px 1px 2px rgba(0, 0, 0, 0.3));\n",
              "      fill: #FFFFFF;\n",
              "    }\n",
              "  </style>\n",
              "\n",
              "    <script>\n",
              "      const buttonEl =\n",
              "        document.querySelector('#df-4118b0be-b5a1-495e-9699-ffea2b4fbbd7 button.colab-df-convert');\n",
              "      buttonEl.style.display =\n",
              "        google.colab.kernel.accessAllowed ? 'block' : 'none';\n",
              "\n",
              "      async function convertToInteractive(key) {\n",
              "        const element = document.querySelector('#df-4118b0be-b5a1-495e-9699-ffea2b4fbbd7');\n",
              "        const dataTable =\n",
              "          await google.colab.kernel.invokeFunction('convertToInteractive',\n",
              "                                                    [key], {});\n",
              "        if (!dataTable) return;\n",
              "\n",
              "        const docLinkHtml = 'Like what you see? Visit the ' +\n",
              "          '<a target=\"_blank\" href=https://colab.research.google.com/notebooks/data_table.ipynb>data table notebook</a>'\n",
              "          + ' to learn more about interactive tables.';\n",
              "        element.innerHTML = '';\n",
              "        dataTable['output_type'] = 'display_data';\n",
              "        await google.colab.output.renderOutput(dataTable, element);\n",
              "        const docLink = document.createElement('div');\n",
              "        docLink.innerHTML = docLinkHtml;\n",
              "        element.appendChild(docLink);\n",
              "      }\n",
              "    </script>\n",
              "  </div>\n",
              "\n",
              "\n",
              "<div id=\"df-502dfb64-a5f6-4009-b80a-dee66a2f2dbb\">\n",
              "  <button class=\"colab-df-quickchart\" onclick=\"quickchart('df-502dfb64-a5f6-4009-b80a-dee66a2f2dbb')\"\n",
              "            title=\"Suggest charts\"\n",
              "            style=\"display:none;\">\n",
              "\n",
              "<svg xmlns=\"http://www.w3.org/2000/svg\" height=\"24px\"viewBox=\"0 0 24 24\"\n",
              "     width=\"24px\">\n",
              "    <g>\n",
              "        <path d=\"M19 3H5c-1.1 0-2 .9-2 2v14c0 1.1.9 2 2 2h14c1.1 0 2-.9 2-2V5c0-1.1-.9-2-2-2zM9 17H7v-7h2v7zm4 0h-2V7h2v10zm4 0h-2v-4h2v4z\"/>\n",
              "    </g>\n",
              "</svg>\n",
              "  </button>\n",
              "\n",
              "<style>\n",
              "  .colab-df-quickchart {\n",
              "      --bg-color: #E8F0FE;\n",
              "      --fill-color: #1967D2;\n",
              "      --hover-bg-color: #E2EBFA;\n",
              "      --hover-fill-color: #174EA6;\n",
              "      --disabled-fill-color: #AAA;\n",
              "      --disabled-bg-color: #DDD;\n",
              "  }\n",
              "\n",
              "  [theme=dark] .colab-df-quickchart {\n",
              "      --bg-color: #3B4455;\n",
              "      --fill-color: #D2E3FC;\n",
              "      --hover-bg-color: #434B5C;\n",
              "      --hover-fill-color: #FFFFFF;\n",
              "      --disabled-bg-color: #3B4455;\n",
              "      --disabled-fill-color: #666;\n",
              "  }\n",
              "\n",
              "  .colab-df-quickchart {\n",
              "    background-color: var(--bg-color);\n",
              "    border: none;\n",
              "    border-radius: 50%;\n",
              "    cursor: pointer;\n",
              "    display: none;\n",
              "    fill: var(--fill-color);\n",
              "    height: 32px;\n",
              "    padding: 0;\n",
              "    width: 32px;\n",
              "  }\n",
              "\n",
              "  .colab-df-quickchart:hover {\n",
              "    background-color: var(--hover-bg-color);\n",
              "    box-shadow: 0 1px 2px rgba(60, 64, 67, 0.3), 0 1px 3px 1px rgba(60, 64, 67, 0.15);\n",
              "    fill: var(--button-hover-fill-color);\n",
              "  }\n",
              "\n",
              "  .colab-df-quickchart-complete:disabled,\n",
              "  .colab-df-quickchart-complete:disabled:hover {\n",
              "    background-color: var(--disabled-bg-color);\n",
              "    fill: var(--disabled-fill-color);\n",
              "    box-shadow: none;\n",
              "  }\n",
              "\n",
              "  .colab-df-spinner {\n",
              "    border: 2px solid var(--fill-color);\n",
              "    border-color: transparent;\n",
              "    border-bottom-color: var(--fill-color);\n",
              "    animation:\n",
              "      spin 1s steps(1) infinite;\n",
              "  }\n",
              "\n",
              "  @keyframes spin {\n",
              "    0% {\n",
              "      border-color: transparent;\n",
              "      border-bottom-color: var(--fill-color);\n",
              "      border-left-color: var(--fill-color);\n",
              "    }\n",
              "    20% {\n",
              "      border-color: transparent;\n",
              "      border-left-color: var(--fill-color);\n",
              "      border-top-color: var(--fill-color);\n",
              "    }\n",
              "    30% {\n",
              "      border-color: transparent;\n",
              "      border-left-color: var(--fill-color);\n",
              "      border-top-color: var(--fill-color);\n",
              "      border-right-color: var(--fill-color);\n",
              "    }\n",
              "    40% {\n",
              "      border-color: transparent;\n",
              "      border-right-color: var(--fill-color);\n",
              "      border-top-color: var(--fill-color);\n",
              "    }\n",
              "    60% {\n",
              "      border-color: transparent;\n",
              "      border-right-color: var(--fill-color);\n",
              "    }\n",
              "    80% {\n",
              "      border-color: transparent;\n",
              "      border-right-color: var(--fill-color);\n",
              "      border-bottom-color: var(--fill-color);\n",
              "    }\n",
              "    90% {\n",
              "      border-color: transparent;\n",
              "      border-bottom-color: var(--fill-color);\n",
              "    }\n",
              "  }\n",
              "</style>\n",
              "\n",
              "  <script>\n",
              "    async function quickchart(key) {\n",
              "      const quickchartButtonEl =\n",
              "        document.querySelector('#' + key + ' button');\n",
              "      quickchartButtonEl.disabled = true;  // To prevent multiple clicks.\n",
              "      quickchartButtonEl.classList.add('colab-df-spinner');\n",
              "      try {\n",
              "        const charts = await google.colab.kernel.invokeFunction(\n",
              "            'suggestCharts', [key], {});\n",
              "      } catch (error) {\n",
              "        console.error('Error during call to suggestCharts:', error);\n",
              "      }\n",
              "      quickchartButtonEl.classList.remove('colab-df-spinner');\n",
              "      quickchartButtonEl.classList.add('colab-df-quickchart-complete');\n",
              "    }\n",
              "    (() => {\n",
              "      let quickchartButtonEl =\n",
              "        document.querySelector('#df-502dfb64-a5f6-4009-b80a-dee66a2f2dbb button');\n",
              "      quickchartButtonEl.style.display =\n",
              "        google.colab.kernel.accessAllowed ? 'block' : 'none';\n",
              "    })();\n",
              "  </script>\n",
              "</div>\n",
              "    </div>\n",
              "  </div>\n"
            ],
            "application/vnd.google.colaboratory.intrinsic+json": {
              "type": "dataframe",
              "variable_name": "df",
              "summary": "{\n  \"name\": \"df\",\n  \"rows\": 54,\n  \"fields\": [\n    {\n      \"column\": \"sensor_name\",\n      \"properties\": {\n        \"dtype\": \"string\",\n        \"samples\": [\n          \"sensor_26\",\n          \"sensor_53\",\n          \"sensor_52\"\n        ],\n        \"num_unique_values\": 54,\n        \"semantic_type\": \"\",\n        \"description\": \"\"\n      }\n    },\n    {\n      \"column\": \"start_date\",\n      \"properties\": {\n        \"dtype\": \"object\",\n        \"min\": \"2021-03-17 15:34:26\",\n        \"max\": \"2023-12-24 00:14:22\",\n        \"samples\": [\n          \"2021-10-27 17:24:40\",\n          \"2022-02-07 15:50:49\",\n          \"2021-10-27 17:29:14\"\n        ],\n        \"num_unique_values\": 49,\n        \"semantic_type\": \"\",\n        \"description\": \"\"\n      }\n    },\n    {\n      \"column\": \"end_date\",\n      \"properties\": {\n        \"dtype\": \"object\",\n        \"min\": \"2024-01-15 14:57:02\",\n        \"max\": \"2024-02-16 09:02:06\",\n        \"samples\": [\n          \"2024-02-15 13:09:47\",\n          \"2024-02-15 21:10:00\",\n          \"2024-02-15 21:39:08\"\n        ],\n        \"num_unique_values\": 50,\n        \"semantic_type\": \"\",\n        \"description\": \"\"\n      }\n    },\n    {\n      \"column\": \"lng\",\n      \"properties\": {\n        \"dtype\": \"number\",\n        \"std\": 0.03539091739164871,\n        \"min\": -3.00162,\n        \"max\": -2.84434,\n        \"samples\": [\n          -2.99363,\n          -2.98144,\n          -2.96549\n        ],\n        \"num_unique_values\": 53,\n        \"semantic_type\": \"\",\n        \"description\": \"\"\n      }\n    },\n    {\n      \"column\": \"lat\",\n      \"properties\": {\n        \"dtype\": \"number\",\n        \"std\": 0.023553712201913442,\n        \"min\": 53.3463,\n        \"max\": 53.4557,\n        \"samples\": [\n          53.453,\n          53.4082,\n          53.4094\n        ],\n        \"num_unique_values\": 52,\n        \"semantic_type\": \"\",\n        \"description\": \"\"\n      }\n    }\n  ]\n}"
            }
          },
          "metadata": {},
          "execution_count": 67
        }
      ]
    },
    {
      "cell_type": "markdown",
      "source": [],
      "metadata": {
        "id": "pkso4-viPWCA"
      }
    },
    {
      "cell_type": "code",
      "source": [
        "#once we have imported the toolbox we can then import the data\n",
        "\n",
        "\n",
        "startDate = '2022-01-01'\n",
        "endDate = '2024-01-31'\n",
        "sensor = 10\n",
        "\n",
        "url = \"https://jonnyhigham.com/ENVS666/get_forecast.php?sensor=\"+str(sensor)+\"&startDate=\"+startDate+\"&endDate=\"+endDate\n",
        "response = requests.get(url)\n",
        "data = response.json()\n",
        "\n",
        "sensorInfo = data['sensorInfo']\n",
        "data = data['data']\n",
        "df = pd.DataFrame(data)\n",
        "\n",
        "df"
      ],
      "metadata": {
        "colab": {
          "base_uri": "https://localhost:8080/",
          "height": 424
        },
        "id": "i3zryqiFy9ZE",
        "outputId": "689db70a-6b74-4147-e0b1-79dff6af5ec3"
      },
      "execution_count": 119,
      "outputs": [
        {
          "output_type": "execute_result",
          "data": {
            "text/plain": [
              "                 Timestamp  Temperature  Humidity    PM1.0     PM2.5   PM10.0\n",
              "0      2022-01-01 00:00:00    11.692400   89.6500  5.25505  12.78180  29.7823\n",
              "1      2022-01-01 00:30:00    11.349700   90.2843  5.75473  15.84420  36.8253\n",
              "2      2022-01-01 01:00:00    11.254900   91.6594  5.22615  13.93460  33.5870\n",
              "3      2022-01-01 01:30:00    11.091200   87.9718  4.93115  11.36550  24.4246\n",
              "4      2022-01-01 02:00:00    11.481000   91.4758  3.85828   5.25376  14.5014\n",
              "...                    ...          ...       ...      ...       ...      ...\n",
              "36476  2024-01-30 22:00:00     0.955979   86.7989  3.32861   4.08466  14.4143\n",
              "36477  2024-01-30 22:30:00     0.688619   86.9791  4.63408  11.21340  19.0310\n",
              "36478  2024-01-30 23:00:00     0.726262   86.4686  3.09484   5.28932  12.3062\n",
              "36479  2024-01-30 23:30:00     0.321284   86.5872  4.18977  10.44650  17.9435\n",
              "36480  2024-01-31 00:00:00     0.536159   85.8217  3.88804   7.34089  15.3888\n",
              "\n",
              "[36481 rows x 6 columns]"
            ],
            "text/html": [
              "\n",
              "  <div id=\"df-a20ddb6d-5230-415c-9b24-cfa4c719e71e\" class=\"colab-df-container\">\n",
              "    <div>\n",
              "<style scoped>\n",
              "    .dataframe tbody tr th:only-of-type {\n",
              "        vertical-align: middle;\n",
              "    }\n",
              "\n",
              "    .dataframe tbody tr th {\n",
              "        vertical-align: top;\n",
              "    }\n",
              "\n",
              "    .dataframe thead th {\n",
              "        text-align: right;\n",
              "    }\n",
              "</style>\n",
              "<table border=\"1\" class=\"dataframe\">\n",
              "  <thead>\n",
              "    <tr style=\"text-align: right;\">\n",
              "      <th></th>\n",
              "      <th>Timestamp</th>\n",
              "      <th>Temperature</th>\n",
              "      <th>Humidity</th>\n",
              "      <th>PM1.0</th>\n",
              "      <th>PM2.5</th>\n",
              "      <th>PM10.0</th>\n",
              "    </tr>\n",
              "  </thead>\n",
              "  <tbody>\n",
              "    <tr>\n",
              "      <th>0</th>\n",
              "      <td>2022-01-01 00:00:00</td>\n",
              "      <td>11.692400</td>\n",
              "      <td>89.6500</td>\n",
              "      <td>5.25505</td>\n",
              "      <td>12.78180</td>\n",
              "      <td>29.7823</td>\n",
              "    </tr>\n",
              "    <tr>\n",
              "      <th>1</th>\n",
              "      <td>2022-01-01 00:30:00</td>\n",
              "      <td>11.349700</td>\n",
              "      <td>90.2843</td>\n",
              "      <td>5.75473</td>\n",
              "      <td>15.84420</td>\n",
              "      <td>36.8253</td>\n",
              "    </tr>\n",
              "    <tr>\n",
              "      <th>2</th>\n",
              "      <td>2022-01-01 01:00:00</td>\n",
              "      <td>11.254900</td>\n",
              "      <td>91.6594</td>\n",
              "      <td>5.22615</td>\n",
              "      <td>13.93460</td>\n",
              "      <td>33.5870</td>\n",
              "    </tr>\n",
              "    <tr>\n",
              "      <th>3</th>\n",
              "      <td>2022-01-01 01:30:00</td>\n",
              "      <td>11.091200</td>\n",
              "      <td>87.9718</td>\n",
              "      <td>4.93115</td>\n",
              "      <td>11.36550</td>\n",
              "      <td>24.4246</td>\n",
              "    </tr>\n",
              "    <tr>\n",
              "      <th>4</th>\n",
              "      <td>2022-01-01 02:00:00</td>\n",
              "      <td>11.481000</td>\n",
              "      <td>91.4758</td>\n",
              "      <td>3.85828</td>\n",
              "      <td>5.25376</td>\n",
              "      <td>14.5014</td>\n",
              "    </tr>\n",
              "    <tr>\n",
              "      <th>...</th>\n",
              "      <td>...</td>\n",
              "      <td>...</td>\n",
              "      <td>...</td>\n",
              "      <td>...</td>\n",
              "      <td>...</td>\n",
              "      <td>...</td>\n",
              "    </tr>\n",
              "    <tr>\n",
              "      <th>36476</th>\n",
              "      <td>2024-01-30 22:00:00</td>\n",
              "      <td>0.955979</td>\n",
              "      <td>86.7989</td>\n",
              "      <td>3.32861</td>\n",
              "      <td>4.08466</td>\n",
              "      <td>14.4143</td>\n",
              "    </tr>\n",
              "    <tr>\n",
              "      <th>36477</th>\n",
              "      <td>2024-01-30 22:30:00</td>\n",
              "      <td>0.688619</td>\n",
              "      <td>86.9791</td>\n",
              "      <td>4.63408</td>\n",
              "      <td>11.21340</td>\n",
              "      <td>19.0310</td>\n",
              "    </tr>\n",
              "    <tr>\n",
              "      <th>36478</th>\n",
              "      <td>2024-01-30 23:00:00</td>\n",
              "      <td>0.726262</td>\n",
              "      <td>86.4686</td>\n",
              "      <td>3.09484</td>\n",
              "      <td>5.28932</td>\n",
              "      <td>12.3062</td>\n",
              "    </tr>\n",
              "    <tr>\n",
              "      <th>36479</th>\n",
              "      <td>2024-01-30 23:30:00</td>\n",
              "      <td>0.321284</td>\n",
              "      <td>86.5872</td>\n",
              "      <td>4.18977</td>\n",
              "      <td>10.44650</td>\n",
              "      <td>17.9435</td>\n",
              "    </tr>\n",
              "    <tr>\n",
              "      <th>36480</th>\n",
              "      <td>2024-01-31 00:00:00</td>\n",
              "      <td>0.536159</td>\n",
              "      <td>85.8217</td>\n",
              "      <td>3.88804</td>\n",
              "      <td>7.34089</td>\n",
              "      <td>15.3888</td>\n",
              "    </tr>\n",
              "  </tbody>\n",
              "</table>\n",
              "<p>36481 rows × 6 columns</p>\n",
              "</div>\n",
              "    <div class=\"colab-df-buttons\">\n",
              "\n",
              "  <div class=\"colab-df-container\">\n",
              "    <button class=\"colab-df-convert\" onclick=\"convertToInteractive('df-a20ddb6d-5230-415c-9b24-cfa4c719e71e')\"\n",
              "            title=\"Convert this dataframe to an interactive table.\"\n",
              "            style=\"display:none;\">\n",
              "\n",
              "  <svg xmlns=\"http://www.w3.org/2000/svg\" height=\"24px\" viewBox=\"0 -960 960 960\">\n",
              "    <path d=\"M120-120v-720h720v720H120Zm60-500h600v-160H180v160Zm220 220h160v-160H400v160Zm0 220h160v-160H400v160ZM180-400h160v-160H180v160Zm440 0h160v-160H620v160ZM180-180h160v-160H180v160Zm440 0h160v-160H620v160Z\"/>\n",
              "  </svg>\n",
              "    </button>\n",
              "\n",
              "  <style>\n",
              "    .colab-df-container {\n",
              "      display:flex;\n",
              "      gap: 12px;\n",
              "    }\n",
              "\n",
              "    .colab-df-convert {\n",
              "      background-color: #E8F0FE;\n",
              "      border: none;\n",
              "      border-radius: 50%;\n",
              "      cursor: pointer;\n",
              "      display: none;\n",
              "      fill: #1967D2;\n",
              "      height: 32px;\n",
              "      padding: 0 0 0 0;\n",
              "      width: 32px;\n",
              "    }\n",
              "\n",
              "    .colab-df-convert:hover {\n",
              "      background-color: #E2EBFA;\n",
              "      box-shadow: 0px 1px 2px rgba(60, 64, 67, 0.3), 0px 1px 3px 1px rgba(60, 64, 67, 0.15);\n",
              "      fill: #174EA6;\n",
              "    }\n",
              "\n",
              "    .colab-df-buttons div {\n",
              "      margin-bottom: 4px;\n",
              "    }\n",
              "\n",
              "    [theme=dark] .colab-df-convert {\n",
              "      background-color: #3B4455;\n",
              "      fill: #D2E3FC;\n",
              "    }\n",
              "\n",
              "    [theme=dark] .colab-df-convert:hover {\n",
              "      background-color: #434B5C;\n",
              "      box-shadow: 0px 1px 3px 1px rgba(0, 0, 0, 0.15);\n",
              "      filter: drop-shadow(0px 1px 2px rgba(0, 0, 0, 0.3));\n",
              "      fill: #FFFFFF;\n",
              "    }\n",
              "  </style>\n",
              "\n",
              "    <script>\n",
              "      const buttonEl =\n",
              "        document.querySelector('#df-a20ddb6d-5230-415c-9b24-cfa4c719e71e button.colab-df-convert');\n",
              "      buttonEl.style.display =\n",
              "        google.colab.kernel.accessAllowed ? 'block' : 'none';\n",
              "\n",
              "      async function convertToInteractive(key) {\n",
              "        const element = document.querySelector('#df-a20ddb6d-5230-415c-9b24-cfa4c719e71e');\n",
              "        const dataTable =\n",
              "          await google.colab.kernel.invokeFunction('convertToInteractive',\n",
              "                                                    [key], {});\n",
              "        if (!dataTable) return;\n",
              "\n",
              "        const docLinkHtml = 'Like what you see? Visit the ' +\n",
              "          '<a target=\"_blank\" href=https://colab.research.google.com/notebooks/data_table.ipynb>data table notebook</a>'\n",
              "          + ' to learn more about interactive tables.';\n",
              "        element.innerHTML = '';\n",
              "        dataTable['output_type'] = 'display_data';\n",
              "        await google.colab.output.renderOutput(dataTable, element);\n",
              "        const docLink = document.createElement('div');\n",
              "        docLink.innerHTML = docLinkHtml;\n",
              "        element.appendChild(docLink);\n",
              "      }\n",
              "    </script>\n",
              "  </div>\n",
              "\n",
              "\n",
              "<div id=\"df-1961aec9-9251-4479-8246-acfb74bb6dde\">\n",
              "  <button class=\"colab-df-quickchart\" onclick=\"quickchart('df-1961aec9-9251-4479-8246-acfb74bb6dde')\"\n",
              "            title=\"Suggest charts\"\n",
              "            style=\"display:none;\">\n",
              "\n",
              "<svg xmlns=\"http://www.w3.org/2000/svg\" height=\"24px\"viewBox=\"0 0 24 24\"\n",
              "     width=\"24px\">\n",
              "    <g>\n",
              "        <path d=\"M19 3H5c-1.1 0-2 .9-2 2v14c0 1.1.9 2 2 2h14c1.1 0 2-.9 2-2V5c0-1.1-.9-2-2-2zM9 17H7v-7h2v7zm4 0h-2V7h2v10zm4 0h-2v-4h2v4z\"/>\n",
              "    </g>\n",
              "</svg>\n",
              "  </button>\n",
              "\n",
              "<style>\n",
              "  .colab-df-quickchart {\n",
              "      --bg-color: #E8F0FE;\n",
              "      --fill-color: #1967D2;\n",
              "      --hover-bg-color: #E2EBFA;\n",
              "      --hover-fill-color: #174EA6;\n",
              "      --disabled-fill-color: #AAA;\n",
              "      --disabled-bg-color: #DDD;\n",
              "  }\n",
              "\n",
              "  [theme=dark] .colab-df-quickchart {\n",
              "      --bg-color: #3B4455;\n",
              "      --fill-color: #D2E3FC;\n",
              "      --hover-bg-color: #434B5C;\n",
              "      --hover-fill-color: #FFFFFF;\n",
              "      --disabled-bg-color: #3B4455;\n",
              "      --disabled-fill-color: #666;\n",
              "  }\n",
              "\n",
              "  .colab-df-quickchart {\n",
              "    background-color: var(--bg-color);\n",
              "    border: none;\n",
              "    border-radius: 50%;\n",
              "    cursor: pointer;\n",
              "    display: none;\n",
              "    fill: var(--fill-color);\n",
              "    height: 32px;\n",
              "    padding: 0;\n",
              "    width: 32px;\n",
              "  }\n",
              "\n",
              "  .colab-df-quickchart:hover {\n",
              "    background-color: var(--hover-bg-color);\n",
              "    box-shadow: 0 1px 2px rgba(60, 64, 67, 0.3), 0 1px 3px 1px rgba(60, 64, 67, 0.15);\n",
              "    fill: var(--button-hover-fill-color);\n",
              "  }\n",
              "\n",
              "  .colab-df-quickchart-complete:disabled,\n",
              "  .colab-df-quickchart-complete:disabled:hover {\n",
              "    background-color: var(--disabled-bg-color);\n",
              "    fill: var(--disabled-fill-color);\n",
              "    box-shadow: none;\n",
              "  }\n",
              "\n",
              "  .colab-df-spinner {\n",
              "    border: 2px solid var(--fill-color);\n",
              "    border-color: transparent;\n",
              "    border-bottom-color: var(--fill-color);\n",
              "    animation:\n",
              "      spin 1s steps(1) infinite;\n",
              "  }\n",
              "\n",
              "  @keyframes spin {\n",
              "    0% {\n",
              "      border-color: transparent;\n",
              "      border-bottom-color: var(--fill-color);\n",
              "      border-left-color: var(--fill-color);\n",
              "    }\n",
              "    20% {\n",
              "      border-color: transparent;\n",
              "      border-left-color: var(--fill-color);\n",
              "      border-top-color: var(--fill-color);\n",
              "    }\n",
              "    30% {\n",
              "      border-color: transparent;\n",
              "      border-left-color: var(--fill-color);\n",
              "      border-top-color: var(--fill-color);\n",
              "      border-right-color: var(--fill-color);\n",
              "    }\n",
              "    40% {\n",
              "      border-color: transparent;\n",
              "      border-right-color: var(--fill-color);\n",
              "      border-top-color: var(--fill-color);\n",
              "    }\n",
              "    60% {\n",
              "      border-color: transparent;\n",
              "      border-right-color: var(--fill-color);\n",
              "    }\n",
              "    80% {\n",
              "      border-color: transparent;\n",
              "      border-right-color: var(--fill-color);\n",
              "      border-bottom-color: var(--fill-color);\n",
              "    }\n",
              "    90% {\n",
              "      border-color: transparent;\n",
              "      border-bottom-color: var(--fill-color);\n",
              "    }\n",
              "  }\n",
              "</style>\n",
              "\n",
              "  <script>\n",
              "    async function quickchart(key) {\n",
              "      const quickchartButtonEl =\n",
              "        document.querySelector('#' + key + ' button');\n",
              "      quickchartButtonEl.disabled = true;  // To prevent multiple clicks.\n",
              "      quickchartButtonEl.classList.add('colab-df-spinner');\n",
              "      try {\n",
              "        const charts = await google.colab.kernel.invokeFunction(\n",
              "            'suggestCharts', [key], {});\n",
              "      } catch (error) {\n",
              "        console.error('Error during call to suggestCharts:', error);\n",
              "      }\n",
              "      quickchartButtonEl.classList.remove('colab-df-spinner');\n",
              "      quickchartButtonEl.classList.add('colab-df-quickchart-complete');\n",
              "    }\n",
              "    (() => {\n",
              "      let quickchartButtonEl =\n",
              "        document.querySelector('#df-1961aec9-9251-4479-8246-acfb74bb6dde button');\n",
              "      quickchartButtonEl.style.display =\n",
              "        google.colab.kernel.accessAllowed ? 'block' : 'none';\n",
              "    })();\n",
              "  </script>\n",
              "</div>\n",
              "    </div>\n",
              "  </div>\n"
            ],
            "application/vnd.google.colaboratory.intrinsic+json": {
              "type": "dataframe",
              "variable_name": "df",
              "summary": "{\n  \"name\": \"df\",\n  \"rows\": 36481,\n  \"fields\": [\n    {\n      \"column\": \"Timestamp\",\n      \"properties\": {\n        \"dtype\": \"object\",\n        \"min\": \"2022-01-01 00:00:00\",\n        \"max\": \"2024-01-31 00:00:00\",\n        \"samples\": [\n          \"2024-01-06 17:30:00\",\n          \"2022-05-24 12:00:00\",\n          \"2022-03-11 12:30:00\"\n        ],\n        \"num_unique_values\": 36481,\n        \"semantic_type\": \"\",\n        \"description\": \"\"\n      }\n    },\n    {\n      \"column\": \"Temperature\",\n      \"properties\": {\n        \"dtype\": \"number\",\n        \"std\": 6.45398907225615,\n        \"min\": -8.79034,\n        \"max\": 36.8715,\n        \"samples\": [\n          14.4841,\n          13.6901,\n          13.404\n        ],\n        \"num_unique_values\": 34984,\n        \"semantic_type\": \"\",\n        \"description\": \"\"\n      }\n    },\n    {\n      \"column\": \"Humidity\",\n      \"properties\": {\n        \"dtype\": \"number\",\n        \"std\": 13.974489723613798,\n        \"min\": 25.154,\n        \"max\": 109.677,\n        \"samples\": [\n          50.3597,\n          82.2087,\n          81.6929\n        ],\n        \"num_unique_values\": 35202,\n        \"semantic_type\": \"\",\n        \"description\": \"\"\n      }\n    },\n    {\n      \"column\": \"PM1.0\",\n      \"properties\": {\n        \"dtype\": \"number\",\n        \"std\": 6.063498602210022,\n        \"min\": -5.62419,\n        \"max\": 117.861,\n        \"samples\": [\n          2.05393,\n          2.89618,\n          1.49759\n        ],\n        \"num_unique_values\": 35742,\n        \"semantic_type\": \"\",\n        \"description\": \"\"\n      }\n    },\n    {\n      \"column\": \"PM2.5\",\n      \"properties\": {\n        \"dtype\": \"number\",\n        \"std\": 11.047900138425998,\n        \"min\": -8.26118,\n        \"max\": 217.082,\n        \"samples\": [\n          4.2267,\n          7.81286,\n          7.86112\n        ],\n        \"num_unique_values\": 35740,\n        \"semantic_type\": \"\",\n        \"description\": \"\"\n      }\n    },\n    {\n      \"column\": \"PM10.0\",\n      \"properties\": {\n        \"dtype\": \"number\",\n        \"std\": 14.734267033423212,\n        \"min\": -23.625,\n        \"max\": 286.008,\n        \"samples\": [\n          13.4509,\n          41.2724,\n          14.0049\n        ],\n        \"num_unique_values\": 34479,\n        \"semantic_type\": \"\",\n        \"description\": \"\"\n      }\n    }\n  ]\n}"
            }
          },
          "metadata": {},
          "execution_count": 119
        }
      ]
    },
    {
      "cell_type": "markdown",
      "source": [
        "Excellent! With all the data now imported, we can begin our analysis. Our first step will be to calculate the average and standard deviation, as we have done before. This will provide us with valuable insight into the typical magnitude of a given area. Our focus will be on PM2.5 measurements.\n",
        "\n",
        "To accomplish this, we need to create a variable using the data table. This involves accessing the table using keys. As an illustration, we can access the particulate matter data using the example below. By substituting \"PM2.5\" with \"temperature,\" \"humidity,\" or \"PM10,\" you can alter the variable being examined.\n",
        "\n",
        "As you will see, when creating a variable, it is important to avoid using special characters such as hyphens, exclamation marks, or full stops, as these can cause confusion for the computer. Additionally, there are certain syntaxes that may not function in certain languages or operate differently in other languages. These discrepancies are due to the historical development of computer languages, and it is essential to exercise caution when assigning variables. To ensure consistency and avoid potential issues, it is best to stick to using letters when creating variables.\n"
      ],
      "metadata": {
        "id": "_aOR1KKNxTF0"
      }
    },
    {
      "cell_type": "code",
      "source": [
        "#first create a variable\n",
        "PM1p0 = df['PM2.5'].to_numpy()\n",
        "PM2p5 = df['PM2.5'].to_numpy()\n",
        "PM10p0 = df['PM10.0'].to_numpy()\n",
        "temp = df['Temperature'].to_numpy()\n",
        "humd = df['Humidity'].to_numpy()\n"
      ],
      "metadata": {
        "id": "6kDKnsn1z4xD"
      },
      "execution_count": 46,
      "outputs": []
    },
    {
      "cell_type": "code",
      "source": [
        "#Let calculate the average\n",
        "av_pm2p5 = np.nanmean(PM2p5)\n",
        "print(av_pm2p5)"
      ],
      "metadata": {
        "colab": {
          "base_uri": "https://localhost:8080/"
        },
        "id": "_kmHNVMd1Dfw",
        "outputId": "d6995f92-73fc-4f91-c291-2574ee8f8273"
      },
      "execution_count": 47,
      "outputs": [
        {
          "output_type": "stream",
          "name": "stdout",
          "text": [
            "8.582674032260353\n"
          ]
        }
      ]
    },
    {
      "cell_type": "code",
      "source": [
        "#Let calculate the std\n",
        "std_pm2p5 = np.nanstd(PM2p5)\n",
        "print(std_pm2p5)"
      ],
      "metadata": {
        "colab": {
          "base_uri": "https://localhost:8080/"
        },
        "id": "2E64oUDh1QX_",
        "outputId": "2fc06613-3b96-4dcd-8e28-3d96ed7e6673"
      },
      "execution_count": 48,
      "outputs": [
        {
          "output_type": "stream",
          "name": "stdout",
          "text": [
            "11.047748717469206\n"
          ]
        }
      ]
    },
    {
      "cell_type": "code",
      "source": [
        "#OK this is really annoying but we need to keep all of these code outside here... it will help in a minute\n",
        "datetime =  pd.to_datetime(df['Timestamp'].array)\n",
        "datetime"
      ],
      "metadata": {
        "colab": {
          "base_uri": "https://localhost:8080/"
        },
        "id": "DzZXg__B1W8B",
        "outputId": "ea472c0d-1b66-4f6d-8c65-35e8bcc24293"
      },
      "execution_count": 49,
      "outputs": [
        {
          "output_type": "execute_result",
          "data": {
            "text/plain": [
              "DatetimeIndex(['2022-01-01 00:00:00', '2022-01-01 00:30:00',\n",
              "               '2022-01-01 01:00:00', '2022-01-01 01:30:00',\n",
              "               '2022-01-01 02:00:00', '2022-01-01 02:30:00',\n",
              "               '2022-01-01 03:00:00', '2022-01-01 03:30:00',\n",
              "               '2022-01-01 04:00:00', '2022-01-01 04:30:00',\n",
              "               ...\n",
              "               '2024-01-30 19:30:00', '2024-01-30 20:00:00',\n",
              "               '2024-01-30 20:30:00', '2024-01-30 21:00:00',\n",
              "               '2024-01-30 21:30:00', '2024-01-30 22:00:00',\n",
              "               '2024-01-30 22:30:00', '2024-01-30 23:00:00',\n",
              "               '2024-01-30 23:30:00', '2024-01-31 00:00:00'],\n",
              "              dtype='datetime64[ns]', length=36481, freq=None)"
            ]
          },
          "metadata": {},
          "execution_count": 49
        }
      ]
    },
    {
      "cell_type": "markdown",
      "source": [
        "Now that we've converted the datetime into a daytime, we can start exploring some boolean operators. We have a few options to consider: we could examine the month of the year, the day of the week, or even a specific time of day. Let's begin by focusing on a single month, say January. Afterward, we'll move on to examining particular days of the week and certain times of day. We'll then use logical operators, such as 'and' and 'or', to combine some of these operations.\n",
        "\n",
        "Here, we are posing a question to the computer. Specifically, we're asking it to search only within the date and times where the month value is equal to 1. To put it in simpler terms, we refer to this month value as January, whereas February is represented by the value 2, and so forth."
      ],
      "metadata": {
        "id": "ZkHsBF0g4OoI"
      }
    },
    {
      "cell_type": "code",
      "source": [
        "location = datetime.month==1 #january\n",
        "location"
      ],
      "metadata": {
        "colab": {
          "base_uri": "https://localhost:8080/"
        },
        "id": "GbjQ1dzR2YlR",
        "outputId": "3e917f97-45f4-45b5-e04c-2937d65b0c57"
      },
      "execution_count": 50,
      "outputs": [
        {
          "output_type": "execute_result",
          "data": {
            "text/plain": [
              "array([ True,  True,  True, ...,  True,  True,  True])"
            ]
          },
          "metadata": {},
          "execution_count": 50
        }
      ]
    },
    {
      "cell_type": "markdown",
      "source": [
        "After identifying this set of locations, which we refer to as a boolean operator in computing, we can now filter the data. While it may sound complex, the process is actually quite simple – we just use square brackets. Let's apply this to the dataset now. It's worth noting that you won't find any data between March and September since we haven't yet determined any data for those months. However, if you keep an eye on the data in the coming weeks, you'll eventually be able to analyze it as those dates come to pass."
      ],
      "metadata": {
        "id": "0porZtzU53wG"
      }
    },
    {
      "cell_type": "code",
      "source": [
        "location = np.logical_and(datetime.month==1,datetime.year==2023) #january\n",
        "\n",
        "jan_pm2p5 = PM2p5[location]\n",
        "\n",
        "av_jan_pm2p5 = np.nanmean(jan_pm2p5)\n",
        "std_jan_pm2p5 = np.nanstd(jan_pm2p5)\n",
        "\n",
        "print(av_jan_pm2p5)\n",
        "print(std_jan_pm2p5)\n",
        "\n",
        "#datetime.dayofweek - we could look at day of week\n",
        "#datetime.hour - we could look at hour in day\n",
        "#datetime.month - we could look at specific month\n",
        "#datetime.week - we could look at specific week of the year"
      ],
      "metadata": {
        "colab": {
          "base_uri": "https://localhost:8080/"
        },
        "id": "D04dg2bw6PdU",
        "outputId": "d355b3c5-7433-4f7c-e486-414cf86b521a"
      },
      "execution_count": 51,
      "outputs": [
        {
          "output_type": "stream",
          "name": "stdout",
          "text": [
            "8.251446920833333\n",
            "8.49316639814135\n"
          ]
        }
      ]
    },
    {
      "cell_type": "markdown",
      "source": [
        "That was a relatively easy task. Now, we'll shift our focus to time ranges. To accomplish this, we'll employ the 'greater than or equal to' symbol, along with a logical operator, to pinpoint specific time intervals between two values. We'll use an 'and' operator to combine these conditions, which will become clearer as we move forward."
      ],
      "metadata": {
        "id": "adW8R2qH6m6s"
      }
    },
    {
      "cell_type": "code",
      "source": [
        "#Ok let's just check at 9AM\n",
        "location = datetime.hour==9\n",
        "pm2p5_9am = PM2p5[location]\n",
        "av_9am_pm2p5 = np.nanmean(pm2p5_9am)\n",
        "print(av_9am_pm2p5)\n",
        "\n",
        "#and now lets look at a between to numbers\n",
        "location = np.logical_and(datetime.hour>9, datetime.hour < 17)\n",
        "pm2p5_range = PM2p5[location]\n",
        "av_pm2p5_range = np.nanmean(pm2p5_range)\n",
        "print(av_pm2p5_range)\n",
        "std_pm2p5_range = np.nanstd(pm2p5_range)\n",
        "print(std_pm2p5_range)\n",
        "\n"
      ],
      "metadata": {
        "colab": {
          "base_uri": "https://localhost:8080/"
        },
        "id": "u8kXmRUz6mQM",
        "outputId": "9c4afa51-750c-4a9c-8801-66e23c84e774"
      },
      "execution_count": 52,
      "outputs": [
        {
          "output_type": "stream",
          "name": "stdout",
          "text": [
            "8.438427692375\n",
            "6.8401637387697365\n",
            "7.725033385673615\n"
          ]
        }
      ]
    },
    {
      "cell_type": "markdown",
      "source": [
        "Great news, it's time to start making some plots! As I mentioned earlier, we'll need to use a new package called matplotlib. Just like numpy, there are countless functions available in matplotlib, and to help you get started, I've included some basic examples below. However, if you'd like to explore the full range of options and make your plots really stand out, I've also included a link to the documentation, which is definitely worth a read. Happy plotting!"
      ],
      "metadata": {
        "id": "Bm0lLn8F_FZl"
      }
    },
    {
      "cell_type": "code",
      "source": [
        "import matplotlib.pyplot as plt #again we simplify the name to plt, but realistically this could be what you want!\n",
        "\n",
        "plt.plot(datetime,PM2p5) #and it really is as simple as this to crearte a plot!\n",
        "plt.ylabel('PM2.5µg/m^3') # add some lables\n",
        "plt.xlabel('Dates') # add some lables\n",
        "plt.title('Time Series of PM2.5 µg/m^3') # add a title"
      ],
      "metadata": {
        "colab": {
          "base_uri": "https://localhost:8080/",
          "height": 490
        },
        "id": "gGiWgo_5_NGu",
        "outputId": "f7d81bc6-0735-4f73-ecef-373a73044c50"
      },
      "execution_count": 53,
      "outputs": [
        {
          "output_type": "execute_result",
          "data": {
            "text/plain": [
              "Text(0.5, 1.0, 'Time Series of PM2.5 µg/m^3')"
            ]
          },
          "metadata": {},
          "execution_count": 53
        },
        {
          "output_type": "display_data",
          "data": {
            "text/plain": [
              "<Figure size 640x480 with 1 Axes>"
            ],
            "image/png": "[encoded data removed]"
          },
          "metadata": {}
        }
      ]
    },
    {
      "cell_type": "code",
      "source": [
        "#what about just filtering to look at January\n",
        "\n",
        "location = np.logical_and(datetime.month==1,datetime.year==2024)\n",
        "plt.plot(datetime[location],PM2p5[location]) #and it really is as simple as this to crearte a plot!\n",
        "plt.ylabel('PM2.5µg/m^3') # add some lables\n",
        "plt.xlabel('Dates') # add some lables\n",
        "plt.title('Jan Time Series of PM2.5 µg/m^3') # add a title\n"
      ],
      "metadata": {
        "colab": {
          "base_uri": "https://localhost:8080/",
          "height": 490
        },
        "id": "Hkg68K0k_qBI",
        "outputId": "514aab85-13e8-41ae-c105-545f97837ca3"
      },
      "execution_count": 54,
      "outputs": [
        {
          "output_type": "execute_result",
          "data": {
            "text/plain": [
              "Text(0.5, 1.0, 'Jan Time Series of PM2.5 µg/m^3')"
            ]
          },
          "metadata": {},
          "execution_count": 54
        },
        {
          "output_type": "display_data",
          "data": {
            "text/plain": [
              "<Figure size 640x480 with 1 Axes>"
            ],
            "image/png": "[encoded data removed]"
          },
          "metadata": {}
        }
      ]
    },
    {
      "cell_type": "code",
      "source": [
        "#how about even looking at bonfire night\n",
        "\n",
        "location = np.logical_and(datetime.month==11,datetime.year==2023)\n",
        "plt.figure(figsize=(10,5)) # here we can change the size of the figure\n",
        "\n",
        "plt.plot(datetime[location],PM2p5[location]) #and it really is as simple as this to crearte a plot!\n",
        "plt.ylabel('PM2.5µg/m^3') # add some labels\n",
        "plt.xlabel('Dates') # add some labels\n",
        "plt.title('Bonfire Time Series of PM2.5 µg/m^3') # add a title\n"
      ],
      "metadata": {
        "colab": {
          "base_uri": "https://localhost:8080/",
          "height": 505
        },
        "id": "9heG8sIp_2MW",
        "outputId": "92fc8fb8-81b3-41e6-f6c2-7e9b2c40a19e"
      },
      "execution_count": 57,
      "outputs": [
        {
          "output_type": "execute_result",
          "data": {
            "text/plain": [
              "Text(0.5, 1.0, 'Bonfire Time Series of PM2.5 µg/m^3')"
            ]
          },
          "metadata": {},
          "execution_count": 57
        },
        {
          "output_type": "display_data",
          "data": {
            "text/plain": [
              "<Figure size 1000x500 with 1 Axes>"
            ],
            "image/png": "[encoded data removed]"
          },
          "metadata": {}
        }
      ]
    },
    {
      "cell_type": "code",
      "source": [
        "#OK look at some more months\n",
        "\n",
        "sep = PM2p5[np.logical_and(datetime.month==9,datetime.year==2023)]\n",
        "oct = PM2p5[np.logical_and(datetime.month==10,datetime.year==2023)]\n",
        "nov = PM2p5[np.logical_and(datetime.month==11,datetime.year==2023)]\n",
        "dec = PM2p5[np.logical_and(datetime.month==12,datetime.year==2023)]\n",
        "jan = PM2p5[np.logical_and(datetime.month==1,datetime.year==2024)]\n",
        "feb = PM2p5[np.logical_and(datetime.month==2,datetime.year==2024)]\n",
        "\n",
        "#we could even look at some average\n",
        "av_sep = np.nanmean(sep)\n",
        "av_oct = np.nanmean(oct)\n",
        "av_nov = np.nanmean(nov)\n",
        "av_dec = np.nanmean(dec)\n",
        "av_jan = np.nanmean(jan)\n",
        "av_feb = np.nanmean(feb)\n",
        "\n",
        "#what about some std's\n",
        "\n",
        "std_sep = np.nanstd(sep)\n",
        "std_oct = np.nanstd(oct)\n",
        "std_nov = np.nanstd(nov)\n",
        "std_dec = np.nanstd(dec)\n",
        "std_jan = np.nanstd(jan)\n",
        "std_feb = np.nanstd(feb)\n"
      ],
      "metadata": {
        "id": "QX2sL7vRAbWH",
        "outputId": "cde69822-aca6-4f8b-dabf-4097dd6dfefc",
        "colab": {
          "base_uri": "https://localhost:8080/"
        }
      },
      "execution_count": 59,
      "outputs": [
        {
          "output_type": "stream",
          "name": "stderr",
          "text": [
            "<ipython-input-59-0bdb2d77af05>:16: RuntimeWarning: Mean of empty slice\n",
            "  av_feb = np.nanmean(feb)\n",
            "/usr/local/lib/python3.10/dist-packages/numpy/lib/nanfunctions.py:1879: RuntimeWarning: Degrees of freedom <= 0 for slice.\n",
            "  var = nanvar(a, axis=axis, dtype=dtype, out=out, ddof=ddof,\n"
          ]
        }
      ]
    },
    {
      "cell_type": "code",
      "source": [
        "# we could now create a plot... however we will need to create an array first\n",
        "\n",
        "av_months = [av_sep,av_oct,av_nov,av_dec,av_jan,av_feb]\n",
        "std_months = [std_sep,std_oct,std_nov,std_dec,std_jan,std_feb]\n",
        "months = ['Sep','Oct','Nov','Dec','Jan','Feb']\n",
        "\n",
        "upper = np.array(av_months)+np.array(std_months)\n",
        "lower = np.array(av_months)-np.array(std_months)\n",
        "\n",
        "plt.figure(figsize=(10,5)) # here we can change the size of the figure\n",
        "\n",
        "plt.plot(months,av_months,'k') #and it really is as simple as this to crearte a plot!\n",
        "plt.plot(months,upper,'r--') #and it really is as simple as this to crearte a plot!\n",
        "plt.plot(months,lower,'r--') #and it really is as simple as this to crearte a plot!\n",
        "\n",
        "plt.ylabel('PM2.5µg/m^3') # add some labels\n",
        "plt.xlabel('Dates') # add some labels\n",
        "plt.title('Monthly Average Time Series of PM2.5 µg/m^3') # add a title\n"
      ],
      "metadata": {
        "colab": {
          "base_uri": "https://localhost:8080/",
          "height": 505
        },
        "id": "wH4aeIwOBQXk",
        "outputId": "8989b3a6-9621-4f04-e206-0cc4131429ec"
      },
      "execution_count": 60,
      "outputs": [
        {
          "output_type": "execute_result",
          "data": {
            "text/plain": [
              "Text(0.5, 1.0, 'Monthly Average Time Series of PM2.5 µg/m^3')"
            ]
          },
          "metadata": {},
          "execution_count": 60
        },
        {
          "output_type": "display_data",
          "data": {
            "text/plain": [
              "<Figure size 1000x500 with 1 Axes>"
            ],
            "image/png": "[encoded data removed]"
          },
          "metadata": {}
        }
      ]
    },
    {
      "cell_type": "markdown",
      "source": [
        "It's clear how powerful Python is and how easily we can manipulate data. Now let's take a look at two types of plots we can create: line plots and histograms. I have to admit, histograms are one of my favourite mathematical tools and have been for the past ten years of my research. While modes described by histograms might seem like a basic concept, we can actually extract certain features using modal analysis, which helps us gain a better understanding of the dataset. Before we move on to the spatial data, I'll show you a quick example of how we can perform modal analysis in Python. This was a good way for us to do things but I reckon señor GTP has a better answer..."
      ],
      "metadata": {
        "id": "99t4xtxgDLrj"
      }
    },
    {
      "cell_type": "code",
      "source": [],
      "metadata": {
        "id": "mpcuUa1oy2ER"
      },
      "execution_count": null,
      "outputs": []
    },
    {
      "cell_type": "code",
      "source": [
        "plt.figure(figsize=(10,5)) # here we can change the size of the figure\n",
        "plt.hist(PM2p5,bins=100,range=[0,20]) #here we can set the number of bins and the ranges\n",
        "plt.ylabel('frequency')\n",
        "plt.xlabel('range')\n",
        "plt.title('PM2.5 distribution')"
      ],
      "metadata": {
        "colab": {
          "base_uri": "https://localhost:8080/",
          "height": 505
        },
        "id": "2JcO2zBLCKy2",
        "outputId": "00920e5e-d399-47c1-b13a-f0f9df6ce113"
      },
      "execution_count": 61,
      "outputs": [
        {
          "output_type": "execute_result",
          "data": {
            "text/plain": [
              "Text(0.5, 1.0, 'PM2.5 distribution')"
            ]
          },
          "metadata": {},
          "execution_count": 61
        },
        {
          "output_type": "display_data",
          "data": {
            "text/plain": [
              "<Figure size 1000x500 with 1 Axes>"
            ],
            "image/png": "[encoded data removed]"
          },
          "metadata": {}
        }
      ]
    },
    {
      "cell_type": "markdown",
      "source": [
        "Okay, it's time for a quick tea break before we dive into the exciting world of spatial data. As I've mentioned before, spatial representation of a dataset is incredibly powerful and can provide a bird's eye view of what's happening over a large area. The dataset we'll be using is live research data, and there are many researchers currently working on it, so you're getting a sneak peek into what's happening at the forefront of air quality research. In the next session, we'll also explore some other datasets related to asthma and perception data that we've collected. Just a heads up, the dataset we're about to use is rather large, so it might take a few minutes to upload. But don't worry, we'll get there!\n",
        "\n",
        "\n",
        "To access the data we need for our spatial analysis, we will head over to the data repository. It's updated daily, so you'll always have access to the most current air quality statistics. Soon, we'll also have a web page where you can easily access and download these data, but we're currently awaiting approval from the council. In the meantime, you can follow use the code below to put the data into colab. I think we could also do some other statistics -- hola señorGTP..."
      ],
      "metadata": {
        "id": "JS--l31NDoaf"
      }
    },
    {
      "cell_type": "code",
      "source": [
        "!pip install rasterio"
      ],
      "metadata": {
        "id": "uwyjR58jzRqs",
        "outputId": "d1be23c0-ef46-4bd5-ec10-1654b48c5631",
        "colab": {
          "base_uri": "https://localhost:8080/"
        }
      },
      "execution_count": 113,
      "outputs": [
        {
          "output_type": "stream",
          "name": "stdout",
          "text": [
            "Requirement already satisfied: rasterio in /usr/local/lib/python3.10/dist-packages (1.3.9)\n",
            "Requirement already satisfied: affine in /usr/local/lib/python3.10/dist-packages (from rasterio) (2.4.0)\n",
            "Requirement already satisfied: attrs in /usr/local/lib/python3.10/dist-packages (from rasterio) (23.2.0)\n",
            "Requirement already satisfied: certifi in /usr/local/lib/python3.10/dist-packages (from rasterio) (2024.2.2)\n",
            "Requirement already satisfied: click>=4.0 in /usr/local/lib/python3.10/dist-packages (from rasterio) (8.1.7)\n",
            "Requirement already satisfied: cligj>=0.5 in /usr/local/lib/python3.10/dist-packages (from rasterio) (0.7.2)\n",
            "Requirement already satisfied: numpy in /usr/local/lib/python3.10/dist-packages (from rasterio) (1.25.2)\n",
            "Requirement already satisfied: snuggs>=1.4.1 in /usr/local/lib/python3.10/dist-packages (from rasterio) (1.4.7)\n",
            "Requirement already satisfied: click-plugins in /usr/local/lib/python3.10/dist-packages (from rasterio) (1.1.1)\n",
            "Requirement already satisfied: setuptools in /usr/local/lib/python3.10/dist-packages (from rasterio) (67.7.2)\n",
            "Requirement already satisfied: pyparsing>=2.1.6 in /usr/local/lib/python3.10/dist-packages (from snuggs>=1.4.1->rasterio) (3.1.1)\n"
          ]
        }
      ]
    },
    {
      "cell_type": "code",
      "source": [
        "pollutant = 'HUMIDITY'\n",
        "granularity = 'YEARLY'\n",
        "date='2024-02-09'\n",
        "\n",
        "file_path = requests.get('http://jonnyhigham.co.uk/AIRTEST/get_geotiff.php?pollutant='+pollutant+'&granularity='+granularity+'&date='+date).json()\n",
        "with rasterio.open(file_path) as src:\n",
        "    # Print basic metadata about the GeoTIFF file\n",
        "    print(f\"Width: {src.width}, Height: {src.height}\")\n",
        "    print(f\"Number of bands: {src.count}\")\n",
        "    print(f\"Coordinate Reference System (CRS): {src.crs}\")\n",
        "    print(f\"Transform: {src.transform}\")\n",
        "\n",
        "    # Read the first band\n",
        "    data = src.read(1, masked=True)  # Use masked=True to mask out no data values\n",
        "\n",
        "    # Get bounds\n",
        "    bounds = src.bounds\n",
        "    extent = [bounds.left, bounds.right, bounds.bottom, bounds.top]\n",
        "\n",
        "    # Plotting\n",
        "    fig, ax = plt.subplots(1, 1, figsize=(10, 10))\n",
        "    im = ax.imshow(data, cmap='coolwarm', extent=extent)\n",
        "    ax.set_title('Pollution')\n",
        "    ax.set_xlabel('Longitude')\n",
        "    ax.set_ylabel('Latitude')\n",
        "\n",
        "    # Adding colorbar\n",
        "    cbar = fig.colorbar(im, ax=ax)\n",
        "    cbar.set_label('Pollution level')\n",
        "\n",
        "    # Show grid and set aspect\n",
        "    ax.grid(True)\n",
        "    ax.set_aspect('equal', adjustable='box')\n",
        "\n",
        "    plt.show()"
      ],
      "metadata": {
        "id": "2s17akpkDL9L",
        "outputId": "50ec7754-23d1-4d6f-b327-60306b489525",
        "colab": {
          "base_uri": "https://localhost:8080/",
          "height": 914
        }
      },
      "execution_count": 121,
      "outputs": [
        {
          "output_type": "stream",
          "name": "stdout",
          "text": [
            "Width: 150, Height: 150\n",
            "Number of bands: 1\n",
            "Coordinate Reference System (CRS): EPSG:4326\n",
            "Transform: | 0.00, 0.00,-3.03|\n",
            "| 0.00,-0.00, 53.48|\n",
            "| 0.00, 0.00, 1.00|\n"
          ]
        },
        {
          "output_type": "display_data",
          "data": {
            "text/plain": [
              "<Figure size 1000x1000 with 2 Axes>"
            ],
            "image/png": "[encoded data removed]"
          },
          "metadata": {}
        }
      ]
    },
    {
      "cell_type": "markdown",
      "source": [
        "OK, so now that the spatial data set is loaded into Collab, we can begin applying some of the same operations we've used previously. The difference is that, instead of working with one-dimensional data, we'll be dealing with quasi 3D data. This is because we have two dimensions in space and time, and a third dimension for pollution levels. While we technically wouldn't consider this third dimension to be a true dimension since it's a scalar quantity, the mathematical semantics aren't important for this module."
      ],
      "metadata": {
        "id": "ArYrrBQzJWsT"
      }
    },
    {
      "cell_type": "code",
      "source": [
        "#from ChatGTP\n",
        "\n",
        "from datetime import datetime, timedelta\n",
        "\n",
        "def all_tuesdays(year, month):\n",
        "    # Start date is the first day of the given month and year\n",
        "    start_date = datetime(year, month, 1)\n",
        "\n",
        "    # Find the first Tuesday of the month\n",
        "    one_day = timedelta(days=1)\n",
        "    while start_date.weekday() != 1:  # 0 is Monday, 1 is Tuesday, etc.\n",
        "        start_date += one_day\n",
        "\n",
        "    # Generate all Tuesdays in the month\n",
        "    tuesdays = []\n",
        "    while start_date.month == month:\n",
        "        tuesdays.append(start_date.strftime('%Y-%m-%d'))\n",
        "        start_date += timedelta(days=7)  # Add 7 days to get to the next Tuesday\n",
        "\n",
        "    return tuesdays\n",
        "\n",
        "# Usage\n",
        "year = 2023\n",
        "month = 4  # April\n",
        "tuesdays_in_april = all_tuesdays(year, month)\n",
        "print(tuesdays_in_april)"
      ],
      "metadata": {
        "id": "38MM7bBDJlRn",
        "outputId": "ee141b24-334a-4b20-da86-70a7d2b25104",
        "colab": {
          "base_uri": "https://localhost:8080/"
        }
      },
      "execution_count": 124,
      "outputs": [
        {
          "output_type": "stream",
          "name": "stdout",
          "text": [
            "['2023-04-04', '2023-04-11', '2023-04-18', '2023-04-25']\n"
          ]
        }
      ]
    },
    {
      "cell_type": "code",
      "source": [
        "import requests\n",
        "import rasterio\n",
        "import numpy as np\n",
        "import matplotlib.pyplot as plt\n",
        "\n",
        "# Example list of dates for demonstration (replace with your actual dates list)\n",
        "dates = tuesdays_in_april\n",
        "\n",
        "# Initialize parameters\n",
        "pollutant = 'HUMIDITY'\n",
        "granularity = 'YEARLY'\n",
        "\n",
        "# Placeholder for 3D numpy array initialization\n",
        "data_array = None\n",
        "\n",
        "for date in dates:\n",
        "    # Construct the file path URL\n",
        "    url = f\"http://jonnyhigham.co.uk/AIRTEST/get_geotiff.php?pollutant={pollutant}&granularity={granularity}&date={date}\"\n",
        "    response = requests.get(url)\n",
        "    if response.status_code == 200:\n",
        "        file_path = response.json()  # Assuming the server returns a direct link to the GeoTIFF\n",
        "\n",
        "        # Open and read the GeoTIFF file\n",
        "        with rasterio.open(file_path) as src:\n",
        "            # Read the raster data for the first band\n",
        "            data = src.read(1, masked=True)  # Use masked=True to mask out no data values\n",
        "\n",
        "            # Initialize or stack the 3D numpy array with the new data\n",
        "            if data_array is None:\n",
        "                data_array = np.array([data])\n",
        "            else:\n",
        "                data_array = np.append(data_array, [data], axis=0)\n",
        "    else:\n",
        "        print(f\"Failed to fetch data for {date}\")\n"
      ],
      "metadata": {
        "id": "W0W1c7s-LTiY"
      },
      "execution_count": 127,
      "outputs": []
    },
    {
      "cell_type": "code",
      "source": [
        "bounds = src.bounds\n",
        "extent = [bounds.left, bounds.right, bounds.bottom, bounds.top]\n",
        "\n",
        "# Plotting\n",
        "fig, ax = plt.subplots(1, 1, figsize=(10, 10))\n",
        "im = ax.imshow(np.nanmean(data_array,axis=0), cmap='coolwarm', extent=extent)\n",
        "ax.set_title('Mean Pollution')\n",
        "ax.set_xlabel('Longitude')\n",
        "ax.set_ylabel('Latitude')\n",
        "\n",
        "# Adding colorbar\n",
        "cbar = fig.colorbar(im, ax=ax)\n",
        "cbar.set_label('Pollution level')\n",
        "\n",
        "# Show grid and set aspect\n",
        "ax.grid(True)\n",
        "ax.set_aspect('equal', adjustable='box')\n",
        ""
      ],
      "metadata": {
        "id": "7hkZ5JosLy2V",
        "outputId": "47dae38e-3fcd-45ca-fd72-4676f4635737",
        "colab": {
          "base_uri": "https://localhost:8080/",
          "height": 849
        }
      },
      "execution_count": 131,
      "outputs": [
        {
          "output_type": "stream",
          "name": "stderr",
          "text": [
            "<ipython-input-131-4941e1b491b3>:6: RuntimeWarning: Mean of empty slice\n",
            "  im = ax.imshow(np.nanmean(data_array,axis=0), cmap='coolwarm', extent=extent)\n"
          ]
        },
        {
          "output_type": "display_data",
          "data": {
            "text/plain": [
              "<Figure size 1000x1000 with 2 Axes>"
            ],
            "image/png": "[encoded data removed]"
          },
          "metadata": {}
        }
      ]
    },
    {
      "cell_type": "markdown",
      "source": [
        "To fully appreciate the vastness of the data, plotting will be necessary as the size of the array is far too big to analyze by simply looking at the numbers. Fortunately, we can utilize the same libraries we used before, namely Matplotlib and NumPy. In case you haven't loaded them already, let's load them back in now."
      ],
      "metadata": {
        "id": "jiZis1A7KNj3"
      }
    },
    {
      "cell_type": "markdown",
      "source": [
        "As you can see, manipulating this data isn't as challenging as it may seem. We can also easily compute the standard deviation and even explore different days of the week by utilizing the same boolean operators as we did before. Additionally, we can use a subplot to examine three consecutive months simultaneously, side by side."
      ],
      "metadata": {
        "id": "DdoOrBR9LzqG"
      }
    },
    {
      "cell_type": "code",
      "source": [],
      "metadata": {
        "id": "QdgjYT8hMZzb",
        "outputId": "0598c95e-0915-42c6-bbfd-141a4327f831",
        "colab": {
          "base_uri": "https://localhost:8080/",
          "height": 650
        }
      },
      "execution_count": 132,
      "outputs": [
        {
          "output_type": "stream",
          "name": "stderr",
          "text": [
            "<ipython-input-132-800661305210>:5: RuntimeWarning: Mean of empty slice\n",
            "  mean_pollution = np.nanmean(data_array, axis=0)\n"
          ]
        },
        {
          "output_type": "error",
          "ename": "RasterioIOError",
          "evalue": "path_to_template_geotiff.tif: No such file or directory",
          "traceback": [
            "\u001b[0;31m---------------------------------------------------------------------------\u001b[0m",
            "\u001b[0;31mCPLE_OpenFailedError\u001b[0m                      Traceback (most recent call last)",
            "\u001b[0;32mrasterio/_base.pyx\u001b[0m in \u001b[0;36mrasterio._base.DatasetBase.__init__\u001b[0;34m()\u001b[0m\n",
            "\u001b[0;32mrasterio/_base.pyx\u001b[0m in \u001b[0;36mrasterio._base.open_dataset\u001b[0;34m()\u001b[0m\n",
            "\u001b[0;32mrasterio/_err.pyx\u001b[0m in \u001b[0;36mrasterio._err.exc_wrap_pointer\u001b[0;34m()\u001b[0m\n",
            "\u001b[0;31mCPLE_OpenFailedError\u001b[0m: path_to_template_geotiff.tif: No such file or directory",
            "\nDuring handling of the above exception, another exception occurred:\n",
            "\u001b[0;31mRasterioIOError\u001b[0m                           Traceback (most recent call last)",
            "\u001b[0;32m<ipython-input-132-800661305210>\u001b[0m in \u001b[0;36m<cell line: 11>\u001b[0;34m()\u001b[0m\n\u001b[1;32m      9\u001b[0m \u001b[0;34m\u001b[0m\u001b[0m\n\u001b[1;32m     10\u001b[0m \u001b[0;31m# Assuming 'src' is your source dataset from which to copy the metadata\u001b[0m\u001b[0;34m\u001b[0m\u001b[0;34m\u001b[0m\u001b[0m\n\u001b[0;32m---> 11\u001b[0;31m \u001b[0;32mwith\u001b[0m \u001b[0mrasterio\u001b[0m\u001b[0;34m.\u001b[0m\u001b[0mopen\u001b[0m\u001b[0;34m(\u001b[0m\u001b[0;34m'path_to_template_geotiff.tif'\u001b[0m\u001b[0;34m)\u001b[0m \u001b[0;32mas\u001b[0m \u001b[0msrc\u001b[0m\u001b[0;34m:\u001b[0m\u001b[0;34m\u001b[0m\u001b[0;34m\u001b[0m\u001b[0m\n\u001b[0m\u001b[1;32m     12\u001b[0m     \u001b[0;31m# Create a new GeoTIFF file\u001b[0m\u001b[0;34m\u001b[0m\u001b[0;34m\u001b[0m\u001b[0m\n\u001b[1;32m     13\u001b[0m     with rasterio.open(\n",
            "\u001b[0;32m/usr/local/lib/python3.10/dist-packages/rasterio/env.py\u001b[0m in \u001b[0;36mwrapper\u001b[0;34m(*args, **kwds)\u001b[0m\n\u001b[1;32m    449\u001b[0m \u001b[0;34m\u001b[0m\u001b[0m\n\u001b[1;32m    450\u001b[0m         \u001b[0;32mwith\u001b[0m \u001b[0menv_ctor\u001b[0m\u001b[0;34m(\u001b[0m\u001b[0msession\u001b[0m\u001b[0;34m=\u001b[0m\u001b[0msession\u001b[0m\u001b[0;34m)\u001b[0m\u001b[0;34m:\u001b[0m\u001b[0;34m\u001b[0m\u001b[0;34m\u001b[0m\u001b[0m\n\u001b[0;32m--> 451\u001b[0;31m             \u001b[0;32mreturn\u001b[0m \u001b[0mf\u001b[0m\u001b[0;34m(\u001b[0m\u001b[0;34m*\u001b[0m\u001b[0margs\u001b[0m\u001b[0;34m,\u001b[0m \u001b[0;34m**\u001b[0m\u001b[0mkwds\u001b[0m\u001b[0;34m)\u001b[0m\u001b[0;34m\u001b[0m\u001b[0;34m\u001b[0m\u001b[0m\n\u001b[0m\u001b[1;32m    452\u001b[0m \u001b[0;34m\u001b[0m\u001b[0m\n\u001b[1;32m    453\u001b[0m     \u001b[0;32mreturn\u001b[0m \u001b[0mwrapper\u001b[0m\u001b[0;34m\u001b[0m\u001b[0;34m\u001b[0m\u001b[0m\n",
            "\u001b[0;32m/usr/local/lib/python3.10/dist-packages/rasterio/__init__.py\u001b[0m in \u001b[0;36mopen\u001b[0;34m(fp, mode, driver, width, height, count, crs, transform, dtype, nodata, sharing, **kwargs)\u001b[0m\n\u001b[1;32m    302\u001b[0m \u001b[0;34m\u001b[0m\u001b[0m\n\u001b[1;32m    303\u001b[0m         \u001b[0;32mif\u001b[0m \u001b[0mmode\u001b[0m \u001b[0;34m==\u001b[0m \u001b[0;34m\"r\"\u001b[0m\u001b[0;34m:\u001b[0m\u001b[0;34m\u001b[0m\u001b[0;34m\u001b[0m\u001b[0m\n\u001b[0;32m--> 304\u001b[0;31m             \u001b[0mdataset\u001b[0m \u001b[0;34m=\u001b[0m \u001b[0mDatasetReader\u001b[0m\u001b[0;34m(\u001b[0m\u001b[0mpath\u001b[0m\u001b[0;34m,\u001b[0m \u001b[0mdriver\u001b[0m\u001b[0;34m=\u001b[0m\u001b[0mdriver\u001b[0m\u001b[0;34m,\u001b[0m \u001b[0msharing\u001b[0m\u001b[0;34m=\u001b[0m\u001b[0msharing\u001b[0m\u001b[0;34m,\u001b[0m \u001b[0;34m**\u001b[0m\u001b[0mkwargs\u001b[0m\u001b[0;34m)\u001b[0m\u001b[0;34m\u001b[0m\u001b[0;34m\u001b[0m\u001b[0m\n\u001b[0m\u001b[1;32m    305\u001b[0m         \u001b[0;32melif\u001b[0m \u001b[0mmode\u001b[0m \u001b[0;34m==\u001b[0m \u001b[0;34m\"r+\"\u001b[0m\u001b[0;34m:\u001b[0m\u001b[0;34m\u001b[0m\u001b[0;34m\u001b[0m\u001b[0m\n\u001b[1;32m    306\u001b[0m             dataset = get_writer_for_path(path, driver=driver)(\n",
            "\u001b[0;32mrasterio/_base.pyx\u001b[0m in \u001b[0;36mrasterio._base.DatasetBase.__init__\u001b[0;34m()\u001b[0m\n",
            "\u001b[0;31mRasterioIOError\u001b[0m: path_to_template_geotiff.tif: No such file or directory"
          ]
        }
      ]
    },
    {
      "cell_type": "markdown",
      "source": [
        "Lastly, we'll export this data into QGIS using a GeoTIFF format. Below, you'll find a section of code that converts the map directly into a GeoTIFF. You won't need to modify this part, but the rest is up to you to make the plots look visually appealing."
      ],
      "metadata": {
        "id": "IGW4JXaNQmeE"
      }
    },
    {
      "cell_type": "code",
      "source": [],
      "metadata": {
        "colab": {
          "base_uri": "https://localhost:8080/"
        },
        "id": "uaHfMP_sQ_Hw",
        "outputId": "65c002e5-9ddd-49c7-f862-77500899e5b7"
      },
      "execution_count": null,
      "outputs": [
        {
          "output_type": "stream",
          "name": "stdout",
          "text": [
            "Looking in indexes: https://pypi.org/simple, https://us-python.pkg.dev/colab-wheels/public/simple/\n",
            "Collecting rasterio\n",
            "  Downloading rasterio-1.3.6-cp38-cp38-manylinux_2_17_x86_64.manylinux2014_x86_64.whl (20.1 MB)\n",
            "\u001b[2K     \u001b[90m━━━━━━━━━━━━━━━━━━━━━━━━━━━━━━━━━━━━━━━━\u001b[0m \u001b[32m20.1/20.1 MB\u001b[0m \u001b[31m25.7 MB/s\u001b[0m eta \u001b[36m0:00:00\u001b[0m\n",
            "\u001b[?25hRequirement already satisfied: setuptools in /usr/local/lib/python3.8/dist-packages (from rasterio) (57.4.0)\n",
            "Requirement already satisfied: click>=4.0 in /usr/local/lib/python3.8/dist-packages (from rasterio) (7.1.2)\n",
            "Requirement already satisfied: numpy>=1.18 in /usr/local/lib/python3.8/dist-packages (from rasterio) (1.21.6)\n",
            "Collecting cligj>=0.5\n",
            "  Downloading cligj-0.7.2-py3-none-any.whl (7.1 kB)\n",
            "Requirement already satisfied: certifi in /usr/local/lib/python3.8/dist-packages (from rasterio) (2022.12.7)\n",
            "Collecting affine\n",
            "  Downloading affine-2.4.0-py3-none-any.whl (15 kB)\n",
            "Collecting snuggs>=1.4.1\n",
            "  Downloading snuggs-1.4.7-py3-none-any.whl (5.4 kB)\n",
            "Collecting click-plugins\n",
            "  Downloading click_plugins-1.1.1-py2.py3-none-any.whl (7.5 kB)\n",
            "Requirement already satisfied: attrs in /usr/local/lib/python3.8/dist-packages (from rasterio) (22.2.0)\n",
            "Requirement already satisfied: pyparsing>=2.1.6 in /usr/local/lib/python3.8/dist-packages (from snuggs>=1.4.1->rasterio) (3.0.9)\n",
            "Installing collected packages: snuggs, cligj, click-plugins, affine, rasterio\n",
            "Successfully installed affine-2.4.0 click-plugins-1.1.1 cligj-0.7.2 rasterio-1.3.6 snuggs-1.4.7\n"
          ]
        }
      ]
    },
    {
      "cell_type": "code",
      "source": [],
      "metadata": {
        "id": "x2XYZ2lYmF9C"
      },
      "execution_count": null,
      "outputs": []
    }
  ]
}